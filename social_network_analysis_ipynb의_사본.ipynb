{
  "nbformat": 4,
  "nbformat_minor": 0,
  "metadata": {
    "colab": {
      "provenance": [],
      "include_colab_link": true
    },
    "kernelspec": {
      "name": "python3",
      "display_name": "Python 3"
    }
  },
  "cells": [
    {
      "cell_type": "markdown",
      "metadata": {
        "id": "view-in-github",
        "colab_type": "text"
      },
      "source": [
        "<a href=\"https://colab.research.google.com/github/melitina915/pandas-practice/blob/main/social_network_analysis_ipynb%EC%9D%98_%EC%82%AC%EB%B3%B8.ipynb\" target=\"_parent\"><img src=\"https://colab.research.google.com/assets/colab-badge.svg\" alt=\"Open In Colab\"/></a>"
      ]
    },
    {
      "cell_type": "markdown",
      "metadata": {
        "id": "y93xH3l0DDsY"
      },
      "source": [
        "# Social Network Analysis with Twitter"
      ]
    },
    {
      "cell_type": "markdown",
      "metadata": {
        "id": "iifMQ1FQDXYb"
      },
      "source": [
        "### 드라이브에 마운트"
      ]
    },
    {
      "cell_type": "code",
      "metadata": {
        "id": "HRLSgjpJkIos",
        "colab": {
          "base_uri": "https://localhost:8080/"
        },
        "outputId": "ced51766-0c1b-41a5-feb8-f50514af3939"
      },
      "source": [
        "from google.colab import drive\n",
        "drive.mount('/gdrive') "
      ],
      "execution_count": 1,
      "outputs": [
        {
          "output_type": "stream",
          "name": "stdout",
          "text": [
            "Mounted at /gdrive\n"
          ]
        }
      ]
    },
    {
      "cell_type": "markdown",
      "metadata": {
        "id": "ObhovuusDjW7"
      },
      "source": [
        "### 트위터 개발자 계정 연결하기"
      ]
    },
    {
      "cell_type": "code",
      "source": [
        "!pip install git+https://github.com/tweepy/tweepy.git"
      ],
      "metadata": {
        "id": "F_Y9HDR2nwad",
        "colab": {
          "base_uri": "https://localhost:8080/"
        },
        "outputId": "9ee2b506-eb01-4889-a957-ea1ddca29471"
      },
      "execution_count": 2,
      "outputs": [
        {
          "output_type": "stream",
          "name": "stdout",
          "text": [
            "Looking in indexes: https://pypi.org/simple, https://us-python.pkg.dev/colab-wheels/public/simple/\n",
            "Collecting git+https://github.com/tweepy/tweepy.git\n",
            "  Cloning https://github.com/tweepy/tweepy.git to /tmp/pip-req-build-2b9twkbh\n",
            "  Running command git clone --filter=blob:none --quiet https://github.com/tweepy/tweepy.git /tmp/pip-req-build-2b9twkbh\n",
            "  Resolved https://github.com/tweepy/tweepy.git to commit 0cd96b1918e5e920eb9f8fe4ba303ab5ec899c65\n",
            "  Preparing metadata (setup.py) ... \u001b[?25l\u001b[?25hdone\n",
            "Requirement already satisfied: oauthlib<4,>=3.2.0 in /usr/local/lib/python3.8/dist-packages (from tweepy==4.12.1) (3.2.2)\n",
            "Collecting requests<3,>=2.27.0\n",
            "  Downloading requests-2.28.1-py3-none-any.whl (62 kB)\n",
            "\u001b[2K     \u001b[90m━━━━━━━━━━━━━━━━━━━━━━━━━━━━━━━━━━━━━━━━\u001b[0m \u001b[32m62.8/62.8 KB\u001b[0m \u001b[31m2.9 MB/s\u001b[0m eta \u001b[36m0:00:00\u001b[0m\n",
            "\u001b[?25hRequirement already satisfied: requests-oauthlib<2,>=1.2.0 in /usr/local/lib/python3.8/dist-packages (from tweepy==4.12.1) (1.3.1)\n",
            "Requirement already satisfied: urllib3<1.27,>=1.21.1 in /usr/local/lib/python3.8/dist-packages (from requests<3,>=2.27.0->tweepy==4.12.1) (1.24.3)\n",
            "Requirement already satisfied: idna<4,>=2.5 in /usr/local/lib/python3.8/dist-packages (from requests<3,>=2.27.0->tweepy==4.12.1) (2.10)\n",
            "Requirement already satisfied: charset-normalizer<3,>=2 in /usr/local/lib/python3.8/dist-packages (from requests<3,>=2.27.0->tweepy==4.12.1) (2.1.1)\n",
            "Requirement already satisfied: certifi>=2017.4.17 in /usr/local/lib/python3.8/dist-packages (from requests<3,>=2.27.0->tweepy==4.12.1) (2022.12.7)\n",
            "Building wheels for collected packages: tweepy\n",
            "  Building wheel for tweepy (setup.py) ... \u001b[?25l\u001b[?25hdone\n",
            "  Created wheel for tweepy: filename=tweepy-4.12.1-py3-none-any.whl size=102442 sha256=f0f5802127b1ac85c669a789c5aeeb370a6802bc05f1eb02a247c142f1207673\n",
            "  Stored in directory: /tmp/pip-ephem-wheel-cache-q4laq4og/wheels/ad/05/51/a78f66d15b87f9c623d2f3afc4401660ac4219e526c787fb8b\n",
            "Successfully built tweepy\n",
            "Installing collected packages: requests, tweepy\n",
            "  Attempting uninstall: requests\n",
            "    Found existing installation: requests 2.25.1\n",
            "    Uninstalling requests-2.25.1:\n",
            "      Successfully uninstalled requests-2.25.1\n",
            "  Attempting uninstall: tweepy\n",
            "    Found existing installation: tweepy 3.10.0\n",
            "    Uninstalling tweepy-3.10.0:\n",
            "      Successfully uninstalled tweepy-3.10.0\n",
            "Successfully installed requests-2.28.1 tweepy-4.12.1\n"
          ]
        }
      ]
    },
    {
      "cell_type": "code",
      "source": [
        "import tweepy  #트위터 데이터 스크래핑 라이브러리 "
      ],
      "metadata": {
        "id": "KOHPaEtqoloo"
      },
      "execution_count": 3,
      "outputs": []
    },
    {
      "cell_type": "code",
      "metadata": {
        "id": "fRNbo60LpMIp"
      },
      "source": [
        "# 트위터 앱의 Keys and Access Tokens 탭 참조 (자신의 설정 값을 넣어준다)\n",
        "\n",
        "api_key = '비공개'\n",
        "\n",
        "api_secret_key = '비공개'"
      ],
      "execution_count": 4,
      "outputs": []
    },
    {
      "cell_type": "code",
      "source": [
        "# 1. 인증요청(1차) : 개인 앱 정보 \n",
        "auth = tweepy.OAuthHandler(api_key, api_secret_key)\n",
        "\n",
        "access_token = '비공개'\n",
        "\n",
        "access_token_secret = '비공개'"
      ],
      "metadata": {
        "id": "my2KzEoZjxgj"
      },
      "execution_count": 5,
      "outputs": []
    },
    {
      "cell_type": "code",
      "source": [
        "# 2. access 토큰 요청(2차) - 인증요청 참조변수 이용\n",
        "auth.set_access_token(access_token, access_token_secret)"
      ],
      "metadata": {
        "id": "6fw-riexj5XV"
      },
      "execution_count": 6,
      "outputs": []
    },
    {
      "cell_type": "code",
      "source": [
        "# 3. twitter API 생성  \n",
        "api = tweepy.API(auth)"
      ],
      "metadata": {
        "id": "XW6Isv_TkClg"
      },
      "execution_count": 7,
      "outputs": []
    },
    {
      "cell_type": "code",
      "source": [
        "keyword = \"python\"       # 자신이 검색하고 싶은 키워드 입력\n",
        "until = \"2023-01-08\"      # 특정 일자 이전의 tweet만 검색. 날짜는 ‘YYYY-MM-DD’형태로 입력\n",
        "items = 100               # 몇 개의 트윗을 검색할 것인지 입력\n",
        "\n",
        "\n",
        "search = []             # Scraping 결과 저장할 리스트   \n",
        "for status in tweepy.Cursor(api.search_tweets, q=keyword, until=until).items(items):\n",
        "    search.append(status.text)\n",
        "\n",
        "print(len(search)) # 결과물 길이 \n",
        "print(search[0]) # 첫번째 text 보기 "
      ],
      "metadata": {
        "id": "O6Wo0jtzkHzy",
        "colab": {
          "base_uri": "https://localhost:8080/"
        },
        "outputId": "6708e6dd-f907-4bbf-81cb-ee453e34455f"
      },
      "execution_count": 12,
      "outputs": [
        {
          "output_type": "stream",
          "name": "stdout",
          "text": [
            "100\n",
            "It's Poll Time, Folks!\n",
            "\n",
            "Which of these Python IDEs do you prefer on Linux? 🐍\n",
            "\n",
            "Did we miss the ones you use? \n",
            "\n",
            "Feel… https://t.co/CgrTY31teq\n"
          ]
        }
      ]
    },
    {
      "cell_type": "code",
      "source": [
        "data = {}   # 전체 결과물 추가\n",
        "i = 0       # 트윗 번호\n",
        "for tweet in search:\n",
        "    data['text'] = search[i]   # text키에 text문서 저장\n",
        "    # print(i, \" : \", data)   # 문서번호 : 문서내용\n",
        "    i += 1\n",
        "\n",
        "print(data)"
      ],
      "metadata": {
        "id": "Db19miTlkMT6",
        "colab": {
          "base_uri": "https://localhost:8080/"
        },
        "outputId": "2a75b4c2-8f6d-4d55-b624-813e8c16b06d"
      },
      "execution_count": 13,
      "outputs": [
        {
          "output_type": "stream",
          "name": "stdout",
          "text": [
            "{'text': 'يستخدم C ++ في الغالب في\\nآكانيوز\\n# الذكاء الاصطناعي #Al #ML\\n# DataScience # DataScientists\\n#CodeNewbies #Tech… https://t.co/uG1J0eMK6O'}\n"
          ]
        }
      ]
    },
    {
      "cell_type": "code",
      "source": [
        "# 전체 트윗을 tweet_data 텍스트 파일로 저장\n",
        "\n",
        "import os\n",
        "\n",
        "wfile = open(\"/gdrive/My Drive/tweet_data.txt\", mode='w')   # 쓰기 모드\n",
        "data = {}   # 전체 문서 추가\n",
        "i = 0       # 문서 번호\n",
        "\n",
        "for tweet in search:\n",
        "    data['text'] = search[i]\n",
        "    wfile.write(search[i]+'\\n')  # 파일 출력\n",
        "    i += 1\n",
        "\n",
        "wfile.close()"
      ],
      "metadata": {
        "id": "AjaW5ljbkOGD"
      },
      "execution_count": 15,
      "outputs": []
    },
    {
      "cell_type": "code",
      "metadata": {
        "id": "3r2as_YL44Ua",
        "colab": {
          "base_uri": "https://localhost:8080/"
        },
        "outputId": "3bbf6f40-19dd-49e7-c4ec-6cfb781d273c"
      },
      "source": [
        "# 파일에 scraping 해온 데이터가 잘 저장되었나 확인\n",
        "\n",
        "file = open(\"/gdrive/My Drive/tweet_data.txt\", 'r')\n",
        "\n",
        "uncleaned_text = file.readlines()\n",
        "file.close()\n",
        "\n",
        "print(uncleaned_text)\n",
        "\n",
        "# 파일에 scraping 해온 데이터가 잘 저장되었나 확인"
      ],
      "execution_count": 16,
      "outputs": [
        {
          "output_type": "stream",
          "name": "stdout",
          "text": [
            "[\"It's Poll Time, Folks!\\n\", '\\n', 'Which of these\\xa0Python IDEs do you prefer on Linux? 🐍\\n', '\\n', 'Did we miss the ones you use? \\n', '\\n', 'Feel… https://t.co/CgrTY31teq\\n', 'RT @Sukhmanjeetkau2: #100DaysOfCodeChallenge #100DaysOfCode #SoftwareDeveloper\\n', '\\n', 'Day 07/100\\n', '- #Python Essentials 2 - #Cisco Course\\n', '- Solved…\\n', 'RT @Eli_Krumova: A Guide to #DeepLearning &amp; #NeuralNetworks🕸️\\n', '👉🏽https://t.co/Vc2U6DtImN\\n', '\\n', '#DataScience #Analytics #BigData #CNN #AI #ML #Mac…\\n', 'RT @SecurityTrybe: 20 Websites for Learning Online \\n', '\\n', '#infosec #coding #programming #AI #DataScience #python #Science #cybersecurity #commun…\\n', 'RT @Shubham_pen: Python Roadmap\\n', '\\n', '#infosec #cybersecurity #pentesting #oscp  #informationsecurity #hacking #cissp #redteam #technology #Data…\\n', 'RT @communiess: Last night on Jimmy Kimmel, Joel said filming begins in June!\\n', '#CommunityMovie \\n', '(Warning: Joel is holding an Albino Burmese…\\n', 'RT @PythonPr: Build a Python Project to Scrape YouTube Data using YouTube Data API\\n', '#python \\n', 'https://t.co/CW5d8PRu3G\\n', 'Getting Started With Design Patterns: Design Patterns with Object-Oriented Programming using Java, Python, and Type… https://t.co/qYgIJTD07K\\n', '@CaptainIcarus @smithdrake34 According to Monty python, swallows\\n', 'RT @MoureDev: Mi regalo por el día de hoy...\\n', '\\n', 'Si quieres aprender a programar en PYTHON, este es mi curso desde cero:\\n', '\\n', '⇨ Fundamentos: 10h y…\\n', 'Calling Rust from Python using PyO3 #Cybersecurity #infosec #security via https://t.co/olBiC9iZIh https://t.co/dNEpv3Bz4I\\n', \"@MikeGoesBoomer The Iron Cross makes it obvious that this plane was one of Manfred Von Richtofen's flying circus, a… https://t.co/AIFs6YcQRY\\n\", 'RT @simonholdorf: Ready to learn Python? Skip the expensive coding boot camps.\\n', '\\n', 'These courses will get you there for free:\\n', \"baggallini Women's baggallini Calais Crossbody Bag Blush Python Print\\n\", 'https://t.co/TEj1qmBNZX\\n', '#100DaysOfCodeChallenge #100DaysOfCode #SoftwareDeveloper\\n', '\\n', 'Day 07/100\\n', '- #Python Essentials 2 - #Cisco Course\\n', '- Solv… https://t.co/OET9iwcPAV\\n', 'RT @king_btcusd: #فيديو لمشهد من فيلم بريطاني ساخر من إنتاج عام 1979 إسمه :\\n', ' \"Monty Python’s Life of Brian \"\\n', 'يصف بدقة وهم الإضطهاد التي يعي…\\n', 'C++ principalement utilisé dans\\n', 'Rn\\n', '#IntelligenceArtificielle #Al #ML\\n', '#DataScience #DataScientists\\n', '#CodeNewbies… https://t.co/Tqcr5qb86H\\n', 'RT @Rainmaker1973: The reticulated python is among the three heaviest snakes. \\n', '\\n', 'This is how the it climbs a tree.\\n', '\\n', '[read more: https://t.co…\\n', 'C++ mais usado em\\n', 'Rn\\n', '#InteligênciaArtificial #Al #ML\\n', '#DataScience #DataScientists\\n', '#CodeNewbies #Tech #deeplearning… https://t.co/U9Vq6QCFre\\n', 'python3-krakenex: REST Exchange API for https://t.co/8HiCQBYrY3, Python 3\\n', 'Lang: Python\\n', '⭐️ 670\\n', '#crypto\\n', 'https://t.co/xbllkRFGFz\\n', 'Built a grade calculator today! Definitely struggled on figuring out the percentage formula on this one!! \\U0001fae4 Day 13… https://t.co/WVNtK9rg4c\\n', 'يستخدم C ++ في الغالب في\\n', 'آكانيوز\\n', '# الذكاء الاصطناعي #Al #ML\\n', '# DataScience # DataScientists\\n', '#CodeNewbies #Tech… https://t.co/TqRdKadwtf\\n', 'C++ utilizado principalmente en\\n', 'Rn\\n', '#InteligenciaArtificial #Al #ML\\n', '#CienciaDeDatos #CientíficosDeDatos\\n', '#CodeNewbies… https://t.co/Aw7zEurR73\\n', 'RT @williamcracks: C++ mostly used in\\n', 'Rn\\n', '#ArtificialIntelligence #Al #ML\\n', '#DataScience #DataScientists\\n', '#CodeNewbies #Tech #deeplearning\\n', '#Cyb…\\n', 'RT @paiza_official: プレイはすべて無料！\\n', 'Python、PHP、JavaScript、Ruby、C#など28言語で挑戦できるプログラミングゲーム！\\n', '\\n', '異世界に勇者パーティーとして召喚された新人ITエンジニアの男女が2人ーー\\n', '目覚めるとそこは、剣（コード）と魔…\\n', 'RT @MoureDev: Mi regalo por el día de hoy...\\n', '\\n', 'Si quieres aprender a programar en PYTHON, este es mi curso desde cero:\\n', '\\n', '⇨ Fundamentos: 10h y…\\n', 'C++ mostly used in\\n', 'Rn\\n', '#ArtificialIntelligence #Al #ML\\n', '#DataScience #DataScientists\\n', '#CodeNewbies #Tech #deeplearning… https://t.co/WKhX1rJOkX\\n', \"RT @bro_from_space: Hello guys. Hope, you're doing well. Tomorrow I will flight to Estonia to visit my family. So while, waiting decided to…\\n\", 'RT @omarsar0: This week I used ChatGPT to:\\n', '- Review Python\\n', '- Prepare ML hiring post\\n', '- Coding interview prep\\n', '- Design lecture\\n', '- Solve tech i…\\n', \"Hello guys. Hope, you're doing well. Tomorrow I will flight to Estonia to visit my family. So while, waiting decide… https://t.co/GMAzr3w2XF\\n\", 'RT @Python_Dv: How to Build Object Detection APIs Using TensorFlow and Flask\\n', '#TensorFlow #Flask #python \\n', ' https://t.co/9GdaSatDOC\\n', 'RT @ZappyZappy7: 動きが機敏な車輪付き2脚ロボット\\n', 'https://t.co/PrJvJ2POYv\\n', '\\n', '#robot #SelfBalancing #DIY #programming #Python #RaspberryPi #ROS #Diablo #Direc…\\n', \"@deannaraybourn You'd think they weren't intending to turn their serious literary endeavour into a Monty Python sketch, and yet...\\n\", 'RT @SnakeHour: Green tree python https://t.co/0j5aOIkq9B\\n', 'RT @satohashi: 新年あけましておめでとうございます。開発してきたサービスを正式リリースするのですが、フルリモートでお手伝い頂ける開発メンバーを募集しています。特にWeb系でPython使える方、ご連絡頂けませんでしょうか？\\n', 'RT @PycraftDev: ... You can find pycraft here: https://t.co/pRZzN5GQ6B and https://t.co/i7Jzmz14FI and with thanks to: #buildinpublic #prog…\\n', 'RT @PycraftDev: ... You can find pycraft here: https://t.co/pRZzN5GQ6B and https://t.co/i7Jzmz14FI and with thanks to: #buildinpublic #prog…\\n', 'RT @tut_ml: Learn Python using these Courses- https://t.co/I0o2r0GYDf\\n', '\\n', '#Machinelearning #100DaysOfCode #AI #IoT #100DaysOfMLCode #Python #j…\\n', 'RT @Dkeys_Hacks: If you need a hacker for any kind of problem contact me now #programming #BigData #MachineLearning #DataScience #Cybersecu…\\n', 'RT @RealBenjizo: Python Question;\\n', '\\n', 'What is the output of this code? https://t.co/aoMxmsxTX8\\n', 'If you need a hacker for any kind of problem contact me now #programming #BigData #MachineLearning #DataScience… https://t.co/jdgWRfDXMT\\n', '@debbyiscoding iCHEF的話好像可理解。參加過他們公司某幾個人辦的每月Python 聚會 😂\\n', 'مساعدة في حل واجبات #البرمجة #IT\\n', '#مشاريع_التخرج\\n', '#واجبات\\n', '  #شبكات\\n', '#مشاريع_تخرج\\n', ' #أسايمنت\\n', '#حاسب #مبرمج #java #Flutter… https://t.co/aeoP2pM8KC\\n', 'RT @0xfoobar: @hievalir because the actual computation happens in CUDA bindings not Python\\n', '6/45\\n', 'Pee Mak\\n', \"Monty Python's Holy Grail\\n\", \"Monty Python's Life of Brian\\n\", \"Monty Python's Meaning of Life\\n\", 'The Other Guys\\n', 'R… https://t.co/GgkYoaFiMX\\n', 'ㅋㅋㅋㅅㅂ\\n', 'Monty Python &amp; The Holy Grail - Bloody Weather https://t.co/QXgoYlb7H3 - @YouTube\\n', 'RT @CourceFree: Algorithms and Data Structures for Massive Datasets #udemy #udemycourse #udemyfree #udemycoupon #onlinecourses #udemycoupon…\\n', '@NoContextBrits Monty Python’s Flying Circus or The Mighty Boosh\\n', 'RT @first_issues: Add exponential backoff retry for API errors https://t.co/gkexNMXZ6a #github #Python #Shell #Dockerfile\\n', 'RT @NewCoupon2: BEST #WebDev Course on Udemy \\n', '\\n', 'The Ultimate 2023 Fullstack Web Development Bootcamp \\n', '\\n', '👉 https://t.co/Kub2fNOmDh \\n', '\\n', '#100DaysO…\\n', 'Kalunkel Imkerei / Honig https://t.co/jOgq8pSZ4m #github #Python #Shell #Dockerfile\\n', 'Add exponential backoff retry for API errors https://t.co/gkexNMXZ6a #github #Python #Shell #Dockerfile\\n', 'RT @CourceFree: Algorithms and Data Structures for Massive Datasets #udemy #udemycourse #udemyfree #udemycoupon #onlinecourses #udemycoupon…\\n', 'Algorithms and Data Structures for Massive Datasets #udemy #udemycourse #udemyfree #udemycoupon #onlinecourses… https://t.co/8hp5TPkYYj\\n', 'when i had got me saturn 3yrs ago 😩 i can’t wait to have my reptile room ina few months !!! all the diff snakes ! u… https://t.co/KNzEuO6kR5\\n', 'The perfect people to do live action Discworld would have been 60s Monty Python.\\n', '\\n', 'Since the Ghosts/Bill/Horrible Hi… https://t.co/nrPI26bi63\\n', 'RT @WorldTrendsInfo: ChatGPT gives step-by-step instructions for running your first Python script. @motorcycletwitt #Robotics #AI #HealthTe…\\n', 'RT @16shiki168: 【定期】\\n', '将棋AIを作りはじめたい人へ\\n', '\\n', 'よければ、こちらをどうぞ🙇\\u200d♀️\\n', '←プログラミングしたことが\\n', 'ない人も想定しています☺️\\n', 'ランダム指しするAIを作れます👍\\n', '\\n', 'Pythonで将棋ソフト制作（全6回）\\n', 'youtubeプレイリスト\\n', 'https…\\n', \"RT @iCodeEdmond: Fast wifi doesn't matter much in subzero temperatures!🥶🐻\\u200d❄️\\n\", '\\n', 'Visit our website to claim a FREE TRIAL CLASS today! \\n', '\\n', '#iCode…\\n', \"Fast wifi doesn't matter much in subzero temperatures!🥶🐻\\u200d❄️\\n\", '\\n', 'Visit our website to claim a FREE TRIAL CLASS today!… https://t.co/LOXYyu4rGt\\n', \"Python list element patterns - I have a VERY simple question. Honestly, I'm so sorry to ask you this stupid questio… https://t.co/mKd7egZdJY\\n\", \"If you're walking on the road and you see a python lying on top a bundle of dollars. What will you do?\\n\", '\\n', '1) Run for… https://t.co/StugcmOcR4\\n', 'Want help with a specific Python script for #seo???\\n', '\\n', '1) drop your comments below\\n', '2) follow me @alton_lex for more t… https://t.co/tTmzIMwpNQ\\n', 'RT @madzadev: A Full-stack Roadmap for 2023 🗺️👇\\n', '\\n', '1️⃣ HTML + CSS\\n', '2️⃣ JavaScript\\n', '3️⃣ Git\\n', '4️⃣ React / Vue\\n', '5️⃣ Tailwind\\n', '6️⃣ Python / Node\\n', '7️⃣ P…\\n', 'RT @simonholdorf: Ready to learn Python? Skip the expensive coding boot camps.\\n', '\\n', 'These courses will get you there for free:\\n', 'RT @MoureDev: Mi regalo por el día de hoy...\\n', '\\n', 'Si quieres aprender a programar en PYTHON, este es mi curso desde cero:\\n', '\\n', '⇨ Fundamentos: 10h y…\\n', '@jan_leidecker Die DruKos sind dort aber auch Monty Python-verdächtig.\\n', 'RT @clcoding: Python Quiz | Day 42 | What is the output of following code ? \\n', '\\n', 'Complete Playlist : https://t.co/Exeeauj59r https://t.co/Atz3…\\n', 'RT @gp_pulipaka: A.I. vs. Machine learning vs. Deep Learning. #BigData #Analytics #DataScience #AI #MachineLearning #IoT #IIoT #Python #RSt…\\n', 'RT @bou88888888: 簡単アドベンチャーゲーム\\n', '『モンスターロード』\\n', 'のウィンドウとその中の部品の\\n', '画面処理について解説します。\\n', '\\n', 'パクるとゲーム以外でも使えますよ❗️\\n', '\\n', '⇩詳細はこちらhttps://t.co/NNcrNvu87t\\n', '\\n', '#python #ゲーム #ウ…\\n', 'Day 48:\\n', '\\n', 'Python: Refreshing python knowledge\\n', \"@PopCulture413 @jcburke14 @mattzollerseitz It's the digital equivalent of how the BBC used to wipe their master tap… https://t.co/WnvdRnm8lZ\\n\", \"RT @Saboo_Shubham_: Don't pay ridiculous amounts of money to study Python, Data Science, and Machine Learning.\\n\", '\\n', 'Learn from the experts at G…\\n', 'Waitress terrified when massive PYTHON drops from coffee shop ceiling https://t.co/58WBKiRd9H\\n', 'RT @thegoldsuite: Learn Excel -&gt; https://t.co/vtsXY7oXBI\\n', 'Learn SQL -&gt; https://t.co/uPNVZxXqNC\\n', 'Learn Tableau -&gt; https://t.co/yj65MtYwBq\\n', 'Lear…\\n', '#EthereumClassic is committed to preserving the original #Ethereum protocol and upholding the principles of decentr… https://t.co/DWM9Q12xp6\\n', \"If you are ready to start running your own API queries you'll just need to:\\n\", '\\n', '1) Open the python notebook in google… https://t.co/3SCWejxNgT\\n', 'When combined ChatGPT + SerpAPI are like a cheat code for content generation and competitive analysis.\\n', '\\n', 'Want to tak… https://t.co/WKoz26UGWj\\n', 'RT @toru06192018: colabのGPUやTPUは利用上限があるけれど、CPUだったら特に気にせずに使用できるのがいいね\\n', '\\n', '#DeepLearning #Python #プログラミング初心者\\n', 'Python Developer at Synechron\\n', 'Python Developer Type of Role Technology Location Dallas Texas United States NOTE ONL… https://t.co/xJZAiVoSt7\\n', 'RT @hasantoxr: Learn for Free👇:\\n', '\\n', '∟📂 Python → https://t.co/PhaD5i3uBO\\n', '    ∟ 📂 HTML → https://t.co/ejbmOgOCzv\\n', '    ∟📂 CSS → https://t.co/aXeFx…\\n', 'Tier 3 skeletons get crossbow https://t.co/y0dXaHGz7I #github #C# #PowerShell #Shell #Python\\n', 'RT @machinelearnflx: 85+ Data Science Projects You Can Try with Python https://t.co/k5Isf3b4E7  #DataScience\\n', 'colabのGPUやTPUは利用上限があるけれど、CPUだったら特に気にせずに使用できるのがいいね\\n', '\\n', '#DeepLearning #Python #プログラミング初心者\\n', 'RT @teneikaask_you: LinkedIn + GitHub launched over 50+ FREE courses in software development, machine learning, design and tools and langua…\\n', 'RT @tut_ml: Learn Python using these Courses- https://t.co/I0o2r0GYDf\\n', '\\n', '#Machinelearning #100DaysOfCode #AI #IoT #100DaysOfMLCode #Python #j…\\n', 'RT @madzadev: A Full-stack Roadmap for 2023 🗺️👇\\n', '\\n', '1️⃣ HTML + CSS\\n', '2️⃣ JavaScript\\n', '3️⃣ Git\\n', '4️⃣ React / Vue\\n', '5️⃣ Tailwind\\n', '6️⃣ Python / Node\\n', '7️⃣ P…\\n', '@pyquantnews @SaveToNotion #Thread #python\\n', 'RT @williamcracks: C++ principalement utilisé dans\\n', 'Rn\\n', '#IntelligenceArtificielle #Al #ML\\n', '#DataScience #DataScientists\\n', '#CodeNewbies #Tech #de…\\n', 'コンピュータ・ITで売上ランキング急上昇👑\\n', '\\n', '／\\n', '🏆Amazon書籍：第11位🏆\\n', 'Pythonでつくる ゲーム開発 入門講座…\\n', '＼\\n', '\\n', '💰商品価格: 2,801円[8:51]\\n', '\\n', '⬇詳細はコチラ⬇\\n', 'https://t.co/i0QNYihNeF\\n', 'RT @gp_pulipaka: A.I. vs. Machine learning vs. Deep Learning. #BigData #Analytics #DataScience #AI #MachineLearning #IoT #IIoT #Python #RSt…\\n', 'RT @CubicleApril: I typed this into ChatGPT:\\n', '\\n', '&gt; Write a Python program that reads in a wave file and every eighth of a second outputs a num…\\n', 'RT @communiess: Last night on Jimmy Kimmel, Joel said filming begins in June!\\n', '#CommunityMovie \\n', '(Warning: Joel is holding an Albino Burmese…\\n', 'RT @gp_pulipaka: Build a Python Project to Scrape YouTube Data. #BigData #Analytics #DataScience #AI #MachineLearning #IoT #IIoT #Python #R…\\n', 'RT @raulwreneck: @Ericaidow você é o verdadeiro monty python que fizemos pelo caminho\\n', '\\n', 'os babies que largamos no ocidente\\n', '\\n', 'tu conhece muito…\\n', '@CipponeriVic Mutual of Omaha’s “Wild Kingdom” I think. I saw ole Marlon wrestle a Python Snake in the water once ⚠️\\n', 'RT @omarsar0: This week I used ChatGPT to:\\n', '- Review Python\\n', '- Prepare ML hiring post\\n', '- Coding interview prep\\n', '- Design lecture\\n', '- Solve tech i…\\n', 'C++ principalement utilisé dans\\n', 'Rn\\n', '#IntelligenceArtificielle #Al #ML\\n', '#DataScience #DataScientists\\n', '#CodeNewbies… https://t.co/cfmtOQ9ygB\\n', 'RT @swapnakpanda: ➊ Learn Python - Full Course for Beginners\\n', '\\n', 'This one is from ❝freeCodeCamp❞, one of the best free content providers with…\\n', 'يستخدم C ++ في الغالب في\\n', 'آكانيوز\\n', '# الذكاء الاصطناعي #Al #ML\\n', '# DataScience # DataScientists\\n', '#CodeNewbies #Tech… https://t.co/uG1J0eMK6O\\n']\n"
          ]
        }
      ]
    },
    {
      "cell_type": "markdown",
      "metadata": {
        "id": "AD6Nj6KuDfds"
      },
      "source": [
        "## 전처리, 그래프, 시각화에 필요한 라이브러리 import"
      ]
    },
    {
      "cell_type": "code",
      "metadata": {
        "id": "eJgjWPh-4xKE"
      },
      "source": [
        "import re\n",
        "import networkx as nx\n",
        "import matplotlib.pyplot as plt"
      ],
      "execution_count": 17,
      "outputs": []
    },
    {
      "cell_type": "markdown",
      "source": [
        "### 파이썬 정규표현식을 이용해서 데이터 전처리"
      ],
      "metadata": {
        "id": "AdunwFnJuNR1"
      }
    },
    {
      "cell_type": "code",
      "metadata": {
        "id": "0pAKqlY45rSs"
      },
      "source": [
        "# 파이썬 정규표현식을 이용해서 데이터 전처리 (분석에 필요 없는 부분 삭제)\n",
        "\n",
        "def clean_data(readData):\n",
        "    text = re.sub('\\n', '', readData)\n",
        "    text = re.sub('RT', '', text) \n",
        "    text = re.sub('h\\w{4}://\\w\\W.{13}', '', text)\n",
        "    text = re.sub('&amp;', '', text)\n",
        "    text = re.sub('@\\w{2,15}', '', text)\n",
        "    text = re.sub('^https', '', text)\n",
        "    text = re.sub(\"[_《》….()!,'?&;*“”‘’=+-/#%]\",'', text)\n",
        "    text = re.sub('\"','', text)\n",
        "    text = re.sub('[0-9:]', '', text)\n",
        "    \n",
        "    text = text.lower() # 영어라서 소문자로 바꿔준다\n",
        "    \n",
        "    return text\n"
      ],
      "execution_count": 18,
      "outputs": []
    },
    {
      "cell_type": "code",
      "metadata": {
        "id": "cWnGRIdB7_98",
        "colab": {
          "base_uri": "https://localhost:8080/"
        },
        "outputId": "4a4c3808-7baf-47a8-fb42-1f5a37161195"
      },
      "source": [
        "# clean_data 함수 호출 전후 데이터 확인\n",
        "print(\"전처리 이전 데이터 : \")\n",
        "print(uncleaned_text[0])\n",
        "\n",
        "print(\"전처리 이후 데이터 : \")\n",
        "print(clean_data(uncleaned_text[0]))\n",
        "\n",
        "# 데이터가 잘 정제 되었는지 확인해보자"
      ],
      "execution_count": 20,
      "outputs": [
        {
          "output_type": "stream",
          "name": "stdout",
          "text": [
            "전처리 이전 데이터 : \n",
            "It's Poll Time, Folks!\n",
            "\n",
            "전처리 이후 데이터 : \n",
            "its poll time folks\n"
          ]
        }
      ]
    },
    {
      "cell_type": "markdown",
      "source": [
        "#### 만약 트윗에 이모티콘이 있다면?"
      ],
      "metadata": {
        "id": "pIQbXCNxuFZp"
      }
    },
    {
      "cell_type": "code",
      "source": [
        "# 이모티콘을 제거하는 패턴 만들기\n",
        "emoji_pattern = re.compile(\"[\"\n",
        "        u\"\\U0001F600-\\U0001F64F\"  # emoticons\n",
        "        u\"\\U0001F300-\\U0001F5FF\"  # symbols & pictographs\n",
        "        u\"\\U0001F680-\\U0001F6FF\"  # transport & map symbols\n",
        "        u\"\\U0001F1E0-\\U0001F1FF\"  # flags (iOS)\n",
        "                           \"]+\", flags=re.UNICODE)\n",
        "\n",
        "# 이모티콘을 제거하는 함수 만들기\n",
        "def remove_emoji(readData):\n",
        "    text = re.sub(emoji_pattern, '', readData)\n",
        "    return text\n"
      ],
      "metadata": {
        "id": "VIeL_V7dmQJm"
      },
      "execution_count": 21,
      "outputs": []
    },
    {
      "cell_type": "code",
      "source": [
        "# remove_emoji 함수 호출 전후 데이터 확인\n",
        "\n",
        "print(\"이모지 제거 이전 데이터 : \")\n",
        "print(uncleaned_text[3])\n",
        "\n",
        "print(\"이모지 제거 이후 데이터 : \")\n",
        "print(remove_emoji(uncleaned_text[3]))\n",
        "\n",
        "#데이터가 잘 정제 되었는지 확인해보자"
      ],
      "metadata": {
        "id": "tWM_ExXAoRkm",
        "colab": {
          "base_uri": "https://localhost:8080/"
        },
        "outputId": "ded275ac-abc2-4ddb-b356-f0b81d7dfc5a"
      },
      "execution_count": 22,
      "outputs": [
        {
          "output_type": "stream",
          "name": "stdout",
          "text": [
            "이모지 제거 이전 데이터 : \n",
            "\n",
            "\n",
            "이모지 제거 이후 데이터 : \n",
            "\n",
            "\n"
          ]
        }
      ]
    },
    {
      "cell_type": "markdown",
      "source": [
        "### 반복문을 돌며 데이터 정제 함수 호출"
      ],
      "metadata": {
        "id": "vidMgQjVuLdZ"
      }
    },
    {
      "cell_type": "code",
      "metadata": {
        "id": "gkVZFFqC7Y0Q",
        "colab": {
          "base_uri": "https://localhost:8080/"
        },
        "outputId": "cb1fe7b3-a9c5-4d87-f42a-2bc5d0b9daf6"
      },
      "source": [
        "cleaned_text = []\n",
        "\n",
        "for i in range(len(uncleaned_text)):\n",
        "  first_cleaned_text = clean_data(uncleaned_text[i])\n",
        "  second_cleaned_text = remove_emoji(first_cleaned_text)\n",
        "  \n",
        "  # 한 트윗씩 거치며 새로운 리스트에 담는다.\n",
        "  \n",
        "  cleaned_text.append(second_cleaned_text)\n",
        "\n",
        "\n",
        "print(cleaned_text)"
      ],
      "execution_count": 23,
      "outputs": [
        {
          "output_type": "stream",
          "name": "stdout",
          "text": [
            "['its poll time folks', '', 'which of these\\xa0python ides do you prefer on linux ', '', 'did we miss the ones you use ', '', 'feel ', '  daysofcodechallenge daysofcode softwaredeveloper', '', 'day ', ' python essentials   cisco course', ' solved', '  a guide to deeplearning  neuralnetworks️', '', '', 'datascience analytics bigdata cnn ai ml mac', '   websites for learning online ', '', 'infosec coding programming ai datascience python science cybersecurity commun', '  python roadmap', '', 'infosec cybersecurity pentesting oscp  informationsecurity hacking cissp redteam technology data', '  last night on jimmy kimmel joel said filming begins in june', 'communitymovie ', 'warning joel is holding an albino burmese', '  build a python project to scrape youtube data using youtube data api', 'python ', '', 'getting started with design patterns design patterns with objectoriented programming using java python and type ', '  according to monty python swallows', '  mi regalo por el día de hoy', '', 'si quieres aprender a programar en python este es mi curso desde cero', '', '⇨ fundamentos h y', 'calling rust from python using pyo cybersecurity infosec security via  ', ' the iron cross makes it obvious that this plane was one of manfred von richtofens flying circus a ', '  ready to learn python skip the expensive coding boot camps', '', 'these courses will get you there for free', 'baggallini womens baggallini calais crossbody bag blush python print', '', 'daysofcodechallenge daysofcode softwaredeveloper', '', 'day ', ' python essentials   cisco course', ' solv ', '  فيديو لمشهد من فيلم بريطاني ساخر من إنتاج عام  إسمه ', ' monty pythons life of brian ', 'يصف بدقة وهم الإضطهاد التي يعي', 'c principalement utilisé dans', 'rn', 'intelligenceartificielle al ml', 'datascience datascientists', 'codenewbies ', '  the reticulated python is among the three heaviest snakes ', '', 'this is how the it climbs a tree', '', '[read more httpstco', 'c mais usado em', 'rn', 'inteligênciaartificial al ml', 'datascience datascientists', 'codenewbies tech deeplearning ', 'pythonkrakenex rest exchange api for  python ', 'lang python', '⭐️ ', 'crypto', '', 'built a grade calculator today definitely struggled on figuring out the percentage formula on this one \\U0001fae4 day  ', 'يستخدم c  في الغالب في', 'آكانيوز', ' الذكاء الاصطناعي al ml', ' datascience  datascientists', 'codenewbies tech ', 'c utilizado principalmente en', 'rn', 'inteligenciaartificial al ml', 'cienciadedatos científicosdedatos', 'codenewbies ', '  c mostly used in', 'rn', 'artificialintelligence al ml', 'datascience datascientists', 'codenewbies tech deeplearning', 'cyb', '  プレイはすべて無料！', 'python、php、javascript、ruby、cなど言語で挑戦できるプログラミングゲーム！', '', '異世界に勇者パーティーとして召喚された新人itエンジニアの男女が人ーー', '目覚めるとそこは、剣（コード）と魔', '  mi regalo por el día de hoy', '', 'si quieres aprender a programar en python este es mi curso desde cero', '', '⇨ fundamentos h y', 'c mostly used in', 'rn', 'artificialintelligence al ml', 'datascience datascientists', 'codenewbies tech deeplearning ', '  hello guys hope youre doing well tomorrow i will flight to estonia to visit my family so while waiting decided to', '  this week i used chatgpt to', ' review python', ' prepare ml hiring post', ' coding interview prep', ' design lecture', ' solve tech i', 'hello guys hope youre doing well tomorrow i will flight to estonia to visit my family so while waiting decide ', '  how to build object detection apis using tensorflow and flask', 'tensorflow flask python ', ' ', '  動きが機敏な車輪付き脚ロボット', '', '', 'robot selfbalancing diy programming python raspberrypi ros diablo direc', ' youd think they werent intending to turn their serious literary endeavour into a monty python sketch and yet', '  green tree python ', '  新年あけましておめでとうございます。開発してきたサービスを正式リリースするのですが、フルリモートでお手伝い頂ける開発メンバーを募集しています。特にweb系でpython使える方、ご連絡頂けませんでしょうか？', '   you can find pycraft here  and  and with thanks to buildinpublic prog', '   you can find pycraft here  and  and with thanks to buildinpublic prog', '  learn python using these courses ', '', 'machinelearning daysofcode ai iot daysofmlcode python j', '  if you need a hacker for any kind of problem contact me now programming bigdata machinelearning datascience cybersecu', '  python question', '', 'what is the output of this code ', 'if you need a hacker for any kind of problem contact me now programming bigdata machinelearning datascience ', ' ichef的話好像可理解。參加過他們公司某幾個人辦的每月python 聚會 ', 'مساعدة في حل واجبات البرمجة it', 'مشاريعالتخرج', 'واجبات', '  شبكات', 'مشاريعتخرج', ' أسايمنت', 'حاسب مبرمج java flutter ', '   because the actual computation happens in cuda bindings not python', '', 'pee mak', 'monty pythons holy grail', 'monty pythons life of brian', 'monty pythons meaning of life', 'the other guys', 'r ', 'ㅋㅋㅋㅅㅂ', 'monty python  the holy grail  bloody weather   ', '  algorithms and data structures for massive datasets udemy udemycourse udemyfree udemycoupon onlinecourses udemycoupon', ' monty pythons flying circus or the mighty boosh', '  add exponential backoff retry for api errors  github python shell dockerfile', '  best webdev course on udemy ', '', 'the ultimate  fullstack web development bootcamp ', '', '  ', '', 'dayso', 'kalunkel imkerei  honig  github python shell dockerfile', 'add exponential backoff retry for api errors  github python shell dockerfile', '  algorithms and data structures for massive datasets udemy udemycourse udemyfree udemycoupon onlinecourses udemycoupon', 'algorithms and data structures for massive datasets udemy udemycourse udemyfree udemycoupon onlinecourses ', 'when i had got me saturn yrs ago  i cant wait to have my reptile room ina few months  all the diff snakes  u ', 'the perfect people to do live action discworld would have been s monty python', '', 'since the ghostsbillhorrible hi ', '  chatgpt gives stepbystep instructions for running your first python script  robotics ai healthte', '  【定期】', '将棋aiを作りはじめたい人へ', '', 'よければ、こちらをどうぞ\\u200d♀️', '←プログラミングしたことが', 'ない人も想定しています☺️', 'ランダム指しするaiを作れます', '', 'pythonで将棋ソフト制作（全回）', 'youtubeプレイリスト', '', '  fast wifi doesnt matter much in subzero temperatures🥶\\u200d❄️', '', 'visit our website to claim a free trial class today ', '', 'icode', 'fast wifi doesnt matter much in subzero temperatures🥶\\u200d❄️', '', 'visit our website to claim a free trial class today ', 'python list element patterns  i have a very simple question honestly im so sorry to ask you this stupid questio ', 'if youre walking on the road and you see a python lying on top a bundle of dollars what will you do', '', ' run for ', 'want help with a specific python script for seo', '', ' drop your comments below', ' follow me  for more t ', '  a fullstack roadmap for  ️', '', '️⃣ html  css', '️⃣ javascript', '️⃣ git', '️⃣ react  vue', '️⃣ tailwind', '️⃣ python  node', '️⃣ p', '  ready to learn python skip the expensive coding boot camps', '', 'these courses will get you there for free', '  mi regalo por el día de hoy', '', 'si quieres aprender a programar en python este es mi curso desde cero', '', '⇨ fundamentos h y', ' die drukos sind dort aber auch monty pythonverdächtig', '  python quiz | day  | what is the output of following code  ', '', 'complete playlist   httpstcoatz', '  ai vs machine learning vs deep learning bigdata analytics datascience ai machinelearning iot iiot python rst', '  簡単アドベンチャーゲーム', '『モンスターロード』', 'のウィンドウとその中の部品の', '画面処理について解説します。', '', 'パクるとゲーム以外でも使えますよ❗️', '', '⇩詳細はこちら', '', 'python ゲーム ウ', 'day ', '', 'python refreshing python knowledge', '   its the digital equivalent of how the bbc used to wipe their master tap ', '  dont pay ridiculous amounts of money to study python data science and machine learning', '', 'learn from the experts at g', 'waitress terrified when massive python drops from coffee shop ceiling ', '  learn excel gt ', 'learn sql gt ', 'learn tableau gt ', 'lear', 'ethereumclassic is committed to preserving the original ethereum protocol and upholding the principles of decentr ', 'if you are ready to start running your own api queries youll just need to', '', ' open the python notebook in google ', 'when combined chatgpt  serpapi are like a cheat code for content generation and competitive analysis', '', 'want to tak ', '  colabのgpuやtpuは利用上限があるけれど、cpuだったら特に気にせずに使用できるのがいいね', '', 'deeplearning python プログラミング初心者', 'python developer at synechron', 'python developer type of role technology location dallas texas united states note onl ', '  learn for free', '', '∟ python → ', '    ∟  html → ', '    ∟ css → httpstcoaxefx', 'tier  skeletons get crossbow  github c powershell shell python', '   data science projects you can try with python   datascience', 'colabのgpuやtpuは利用上限があるけれど、cpuだったら特に気にせずに使用できるのがいいね', '', 'deeplearning python プログラミング初心者', '  linkedin  github launched over  free courses in software development machine learning design and tools and langua', '  learn python using these courses ', '', 'machinelearning daysofcode ai iot daysofmlcode python j', '  a fullstack roadmap for  ️', '', '️⃣ html  css', '️⃣ javascript', '️⃣ git', '️⃣ react  vue', '️⃣ tailwind', '️⃣ python  node', '️⃣ p', '  thread python', '  c principalement utilisé dans', 'rn', 'intelligenceartificielle al ml', 'datascience datascientists', 'codenewbies tech de', 'コンピュータ・itで売上ランキング急上昇', '', '／', 'amazon書籍：第位', 'pythonでつくる ゲーム開発 入門講座', '＼', '', '商品価格 円[]', '', '⬇詳細はコチラ⬇', '', '  ai vs machine learning vs deep learning bigdata analytics datascience ai machinelearning iot iiot python rst', '  i typed this into chatgpt', '', 'gt write a python program that reads in a wave file and every eighth of a second outputs a num', '  last night on jimmy kimmel joel said filming begins in june', 'communitymovie ', 'warning joel is holding an albino burmese', '  build a python project to scrape youtube data bigdata analytics datascience ai machinelearning iot iiot python r', '   você é o verdadeiro monty python que fizemos pelo caminho', '', 'os babies que largamos no ocidente', '', 'tu conhece muito', ' mutual of omahas wild kingdom i think i saw ole marlon wrestle a python snake in the water once ⚠️', '  this week i used chatgpt to', ' review python', ' prepare ml hiring post', ' coding interview prep', ' design lecture', ' solve tech i', 'c principalement utilisé dans', 'rn', 'intelligenceartificielle al ml', 'datascience datascientists', 'codenewbies ', '  ➊ learn python  full course for beginners', '', 'this one is from ❝freecodecamp❞ one of the best free content providers with', 'يستخدم c  في الغالب في', 'آكانيوز', ' الذكاء الاصطناعي al ml', ' datascience  datascientists', 'codenewbies tech ']\n"
          ]
        }
      ]
    },
    {
      "cell_type": "markdown",
      "source": [
        "### 토큰화를 위한 라이브러리 설치"
      ],
      "metadata": {
        "id": "suqbsAcluz6z"
      }
    },
    {
      "cell_type": "code",
      "metadata": {
        "id": "MQEQnaql7tV0",
        "colab": {
          "base_uri": "https://localhost:8080/"
        },
        "outputId": "afd5b841-766a-431f-a4aa-c6b373162b0d"
      },
      "source": [
        "# 영어 단어 토큰화 하기 위한 라이브러리\n",
        "import nltk                     # natural language toolkit\n",
        "nltk.download('all')\n",
        "\n",
        "# 시간 1분~2분 정도 소요. 다 되면 True라고 뜬다."
      ],
      "execution_count": 24,
      "outputs": [
        {
          "output_type": "stream",
          "name": "stderr",
          "text": [
            "[nltk_data] Downloading collection 'all'\n",
            "[nltk_data]    | \n",
            "[nltk_data]    | Downloading package abc to /root/nltk_data...\n",
            "[nltk_data]    |   Unzipping corpora/abc.zip.\n",
            "[nltk_data]    | Downloading package alpino to /root/nltk_data...\n",
            "[nltk_data]    |   Unzipping corpora/alpino.zip.\n",
            "[nltk_data]    | Downloading package averaged_perceptron_tagger to\n",
            "[nltk_data]    |     /root/nltk_data...\n",
            "[nltk_data]    |   Unzipping taggers/averaged_perceptron_tagger.zip.\n",
            "[nltk_data]    | Downloading package averaged_perceptron_tagger_ru to\n",
            "[nltk_data]    |     /root/nltk_data...\n",
            "[nltk_data]    |   Unzipping\n",
            "[nltk_data]    |       taggers/averaged_perceptron_tagger_ru.zip.\n",
            "[nltk_data]    | Downloading package basque_grammars to\n",
            "[nltk_data]    |     /root/nltk_data...\n",
            "[nltk_data]    |   Unzipping grammars/basque_grammars.zip.\n",
            "[nltk_data]    | Downloading package bcp47 to /root/nltk_data...\n",
            "[nltk_data]    | Downloading package biocreative_ppi to\n",
            "[nltk_data]    |     /root/nltk_data...\n",
            "[nltk_data]    |   Unzipping corpora/biocreative_ppi.zip.\n",
            "[nltk_data]    | Downloading package bllip_wsj_no_aux to\n",
            "[nltk_data]    |     /root/nltk_data...\n",
            "[nltk_data]    |   Unzipping models/bllip_wsj_no_aux.zip.\n",
            "[nltk_data]    | Downloading package book_grammars to\n",
            "[nltk_data]    |     /root/nltk_data...\n",
            "[nltk_data]    |   Unzipping grammars/book_grammars.zip.\n",
            "[nltk_data]    | Downloading package brown to /root/nltk_data...\n",
            "[nltk_data]    |   Unzipping corpora/brown.zip.\n",
            "[nltk_data]    | Downloading package brown_tei to /root/nltk_data...\n",
            "[nltk_data]    |   Unzipping corpora/brown_tei.zip.\n",
            "[nltk_data]    | Downloading package cess_cat to /root/nltk_data...\n",
            "[nltk_data]    |   Unzipping corpora/cess_cat.zip.\n",
            "[nltk_data]    | Downloading package cess_esp to /root/nltk_data...\n",
            "[nltk_data]    |   Unzipping corpora/cess_esp.zip.\n",
            "[nltk_data]    | Downloading package chat80 to /root/nltk_data...\n",
            "[nltk_data]    |   Unzipping corpora/chat80.zip.\n",
            "[nltk_data]    | Downloading package city_database to\n",
            "[nltk_data]    |     /root/nltk_data...\n",
            "[nltk_data]    |   Unzipping corpora/city_database.zip.\n",
            "[nltk_data]    | Downloading package cmudict to /root/nltk_data...\n",
            "[nltk_data]    |   Unzipping corpora/cmudict.zip.\n",
            "[nltk_data]    | Downloading package comparative_sentences to\n",
            "[nltk_data]    |     /root/nltk_data...\n",
            "[nltk_data]    |   Unzipping corpora/comparative_sentences.zip.\n",
            "[nltk_data]    | Downloading package comtrans to /root/nltk_data...\n",
            "[nltk_data]    | Downloading package conll2000 to /root/nltk_data...\n",
            "[nltk_data]    |   Unzipping corpora/conll2000.zip.\n",
            "[nltk_data]    | Downloading package conll2002 to /root/nltk_data...\n",
            "[nltk_data]    |   Unzipping corpora/conll2002.zip.\n",
            "[nltk_data]    | Downloading package conll2007 to /root/nltk_data...\n",
            "[nltk_data]    | Downloading package crubadan to /root/nltk_data...\n",
            "[nltk_data]    |   Unzipping corpora/crubadan.zip.\n",
            "[nltk_data]    | Downloading package dependency_treebank to\n",
            "[nltk_data]    |     /root/nltk_data...\n",
            "[nltk_data]    |   Unzipping corpora/dependency_treebank.zip.\n",
            "[nltk_data]    | Downloading package dolch to /root/nltk_data...\n",
            "[nltk_data]    |   Unzipping corpora/dolch.zip.\n",
            "[nltk_data]    | Downloading package europarl_raw to\n",
            "[nltk_data]    |     /root/nltk_data...\n",
            "[nltk_data]    |   Unzipping corpora/europarl_raw.zip.\n",
            "[nltk_data]    | Downloading package extended_omw to\n",
            "[nltk_data]    |     /root/nltk_data...\n",
            "[nltk_data]    | Downloading package floresta to /root/nltk_data...\n",
            "[nltk_data]    |   Unzipping corpora/floresta.zip.\n",
            "[nltk_data]    | Downloading package framenet_v15 to\n",
            "[nltk_data]    |     /root/nltk_data...\n",
            "[nltk_data]    |   Unzipping corpora/framenet_v15.zip.\n",
            "[nltk_data]    | Downloading package framenet_v17 to\n",
            "[nltk_data]    |     /root/nltk_data...\n",
            "[nltk_data]    |   Unzipping corpora/framenet_v17.zip.\n",
            "[nltk_data]    | Downloading package gazetteers to /root/nltk_data...\n",
            "[nltk_data]    |   Unzipping corpora/gazetteers.zip.\n",
            "[nltk_data]    | Downloading package genesis to /root/nltk_data...\n",
            "[nltk_data]    |   Unzipping corpora/genesis.zip.\n",
            "[nltk_data]    | Downloading package gutenberg to /root/nltk_data...\n",
            "[nltk_data]    |   Unzipping corpora/gutenberg.zip.\n",
            "[nltk_data]    | Downloading package ieer to /root/nltk_data...\n",
            "[nltk_data]    |   Unzipping corpora/ieer.zip.\n",
            "[nltk_data]    | Downloading package inaugural to /root/nltk_data...\n",
            "[nltk_data]    |   Unzipping corpora/inaugural.zip.\n",
            "[nltk_data]    | Downloading package indian to /root/nltk_data...\n",
            "[nltk_data]    |   Unzipping corpora/indian.zip.\n",
            "[nltk_data]    | Downloading package jeita to /root/nltk_data...\n",
            "[nltk_data]    | Downloading package kimmo to /root/nltk_data...\n",
            "[nltk_data]    |   Unzipping corpora/kimmo.zip.\n",
            "[nltk_data]    | Downloading package knbc to /root/nltk_data...\n",
            "[nltk_data]    | Downloading package large_grammars to\n",
            "[nltk_data]    |     /root/nltk_data...\n",
            "[nltk_data]    |   Unzipping grammars/large_grammars.zip.\n",
            "[nltk_data]    | Downloading package lin_thesaurus to\n",
            "[nltk_data]    |     /root/nltk_data...\n",
            "[nltk_data]    |   Unzipping corpora/lin_thesaurus.zip.\n",
            "[nltk_data]    | Downloading package mac_morpho to /root/nltk_data...\n",
            "[nltk_data]    |   Unzipping corpora/mac_morpho.zip.\n",
            "[nltk_data]    | Downloading package machado to /root/nltk_data...\n",
            "[nltk_data]    | Downloading package masc_tagged to /root/nltk_data...\n",
            "[nltk_data]    | Downloading package maxent_ne_chunker to\n",
            "[nltk_data]    |     /root/nltk_data...\n",
            "[nltk_data]    |   Unzipping chunkers/maxent_ne_chunker.zip.\n",
            "[nltk_data]    | Downloading package maxent_treebank_pos_tagger to\n",
            "[nltk_data]    |     /root/nltk_data...\n",
            "[nltk_data]    |   Unzipping taggers/maxent_treebank_pos_tagger.zip.\n",
            "[nltk_data]    | Downloading package moses_sample to\n",
            "[nltk_data]    |     /root/nltk_data...\n",
            "[nltk_data]    |   Unzipping models/moses_sample.zip.\n",
            "[nltk_data]    | Downloading package movie_reviews to\n",
            "[nltk_data]    |     /root/nltk_data...\n",
            "[nltk_data]    |   Unzipping corpora/movie_reviews.zip.\n",
            "[nltk_data]    | Downloading package mte_teip5 to /root/nltk_data...\n",
            "[nltk_data]    |   Unzipping corpora/mte_teip5.zip.\n",
            "[nltk_data]    | Downloading package mwa_ppdb to /root/nltk_data...\n",
            "[nltk_data]    |   Unzipping misc/mwa_ppdb.zip.\n",
            "[nltk_data]    | Downloading package names to /root/nltk_data...\n",
            "[nltk_data]    |   Unzipping corpora/names.zip.\n",
            "[nltk_data]    | Downloading package nombank.1.0 to /root/nltk_data...\n",
            "[nltk_data]    | Downloading package nonbreaking_prefixes to\n",
            "[nltk_data]    |     /root/nltk_data...\n",
            "[nltk_data]    |   Unzipping corpora/nonbreaking_prefixes.zip.\n",
            "[nltk_data]    | Downloading package nps_chat to /root/nltk_data...\n",
            "[nltk_data]    |   Unzipping corpora/nps_chat.zip.\n",
            "[nltk_data]    | Downloading package omw to /root/nltk_data...\n",
            "[nltk_data]    | Downloading package omw-1.4 to /root/nltk_data...\n",
            "[nltk_data]    | Downloading package opinion_lexicon to\n",
            "[nltk_data]    |     /root/nltk_data...\n",
            "[nltk_data]    |   Unzipping corpora/opinion_lexicon.zip.\n",
            "[nltk_data]    | Downloading package panlex_swadesh to\n",
            "[nltk_data]    |     /root/nltk_data...\n",
            "[nltk_data]    | Downloading package paradigms to /root/nltk_data...\n",
            "[nltk_data]    |   Unzipping corpora/paradigms.zip.\n",
            "[nltk_data]    | Downloading package pe08 to /root/nltk_data...\n",
            "[nltk_data]    |   Unzipping corpora/pe08.zip.\n",
            "[nltk_data]    | Downloading package perluniprops to\n",
            "[nltk_data]    |     /root/nltk_data...\n",
            "[nltk_data]    |   Unzipping misc/perluniprops.zip.\n",
            "[nltk_data]    | Downloading package pil to /root/nltk_data...\n",
            "[nltk_data]    |   Unzipping corpora/pil.zip.\n",
            "[nltk_data]    | Downloading package pl196x to /root/nltk_data...\n",
            "[nltk_data]    |   Unzipping corpora/pl196x.zip.\n",
            "[nltk_data]    | Downloading package porter_test to /root/nltk_data...\n",
            "[nltk_data]    |   Unzipping stemmers/porter_test.zip.\n",
            "[nltk_data]    | Downloading package ppattach to /root/nltk_data...\n",
            "[nltk_data]    |   Unzipping corpora/ppattach.zip.\n",
            "[nltk_data]    | Downloading package problem_reports to\n",
            "[nltk_data]    |     /root/nltk_data...\n",
            "[nltk_data]    |   Unzipping corpora/problem_reports.zip.\n",
            "[nltk_data]    | Downloading package product_reviews_1 to\n",
            "[nltk_data]    |     /root/nltk_data...\n",
            "[nltk_data]    |   Unzipping corpora/product_reviews_1.zip.\n",
            "[nltk_data]    | Downloading package product_reviews_2 to\n",
            "[nltk_data]    |     /root/nltk_data...\n",
            "[nltk_data]    |   Unzipping corpora/product_reviews_2.zip.\n",
            "[nltk_data]    | Downloading package propbank to /root/nltk_data...\n",
            "[nltk_data]    | Downloading package pros_cons to /root/nltk_data...\n",
            "[nltk_data]    |   Unzipping corpora/pros_cons.zip.\n",
            "[nltk_data]    | Downloading package ptb to /root/nltk_data...\n",
            "[nltk_data]    |   Unzipping corpora/ptb.zip.\n",
            "[nltk_data]    | Downloading package punkt to /root/nltk_data...\n",
            "[nltk_data]    |   Unzipping tokenizers/punkt.zip.\n",
            "[nltk_data]    | Downloading package qc to /root/nltk_data...\n",
            "[nltk_data]    |   Unzipping corpora/qc.zip.\n",
            "[nltk_data]    | Downloading package reuters to /root/nltk_data...\n",
            "[nltk_data]    | Downloading package rslp to /root/nltk_data...\n",
            "[nltk_data]    |   Unzipping stemmers/rslp.zip.\n",
            "[nltk_data]    | Downloading package rte to /root/nltk_data...\n",
            "[nltk_data]    |   Unzipping corpora/rte.zip.\n",
            "[nltk_data]    | Downloading package sample_grammars to\n",
            "[nltk_data]    |     /root/nltk_data...\n",
            "[nltk_data]    |   Unzipping grammars/sample_grammars.zip.\n",
            "[nltk_data]    | Downloading package semcor to /root/nltk_data...\n",
            "[nltk_data]    | Downloading package senseval to /root/nltk_data...\n",
            "[nltk_data]    |   Unzipping corpora/senseval.zip.\n",
            "[nltk_data]    | Downloading package sentence_polarity to\n",
            "[nltk_data]    |     /root/nltk_data...\n",
            "[nltk_data]    |   Unzipping corpora/sentence_polarity.zip.\n",
            "[nltk_data]    | Downloading package sentiwordnet to\n",
            "[nltk_data]    |     /root/nltk_data...\n",
            "[nltk_data]    |   Unzipping corpora/sentiwordnet.zip.\n",
            "[nltk_data]    | Downloading package shakespeare to /root/nltk_data...\n",
            "[nltk_data]    |   Unzipping corpora/shakespeare.zip.\n",
            "[nltk_data]    | Downloading package sinica_treebank to\n",
            "[nltk_data]    |     /root/nltk_data...\n",
            "[nltk_data]    |   Unzipping corpora/sinica_treebank.zip.\n",
            "[nltk_data]    | Downloading package smultron to /root/nltk_data...\n",
            "[nltk_data]    |   Unzipping corpora/smultron.zip.\n",
            "[nltk_data]    | Downloading package snowball_data to\n",
            "[nltk_data]    |     /root/nltk_data...\n",
            "[nltk_data]    | Downloading package spanish_grammars to\n",
            "[nltk_data]    |     /root/nltk_data...\n",
            "[nltk_data]    |   Unzipping grammars/spanish_grammars.zip.\n",
            "[nltk_data]    | Downloading package state_union to /root/nltk_data...\n",
            "[nltk_data]    |   Unzipping corpora/state_union.zip.\n",
            "[nltk_data]    | Downloading package stopwords to /root/nltk_data...\n",
            "[nltk_data]    |   Unzipping corpora/stopwords.zip.\n",
            "[nltk_data]    | Downloading package subjectivity to\n",
            "[nltk_data]    |     /root/nltk_data...\n",
            "[nltk_data]    |   Unzipping corpora/subjectivity.zip.\n",
            "[nltk_data]    | Downloading package swadesh to /root/nltk_data...\n",
            "[nltk_data]    |   Unzipping corpora/swadesh.zip.\n",
            "[nltk_data]    | Downloading package switchboard to /root/nltk_data...\n",
            "[nltk_data]    |   Unzipping corpora/switchboard.zip.\n",
            "[nltk_data]    | Downloading package tagsets to /root/nltk_data...\n",
            "[nltk_data]    |   Unzipping help/tagsets.zip.\n",
            "[nltk_data]    | Downloading package timit to /root/nltk_data...\n",
            "[nltk_data]    |   Unzipping corpora/timit.zip.\n",
            "[nltk_data]    | Downloading package toolbox to /root/nltk_data...\n",
            "[nltk_data]    |   Unzipping corpora/toolbox.zip.\n",
            "[nltk_data]    | Downloading package treebank to /root/nltk_data...\n",
            "[nltk_data]    |   Unzipping corpora/treebank.zip.\n",
            "[nltk_data]    | Downloading package twitter_samples to\n",
            "[nltk_data]    |     /root/nltk_data...\n",
            "[nltk_data]    |   Unzipping corpora/twitter_samples.zip.\n",
            "[nltk_data]    | Downloading package udhr to /root/nltk_data...\n",
            "[nltk_data]    |   Unzipping corpora/udhr.zip.\n",
            "[nltk_data]    | Downloading package udhr2 to /root/nltk_data...\n",
            "[nltk_data]    |   Unzipping corpora/udhr2.zip.\n",
            "[nltk_data]    | Downloading package unicode_samples to\n",
            "[nltk_data]    |     /root/nltk_data...\n",
            "[nltk_data]    |   Unzipping corpora/unicode_samples.zip.\n",
            "[nltk_data]    | Downloading package universal_tagset to\n",
            "[nltk_data]    |     /root/nltk_data...\n",
            "[nltk_data]    |   Unzipping taggers/universal_tagset.zip.\n",
            "[nltk_data]    | Downloading package universal_treebanks_v20 to\n",
            "[nltk_data]    |     /root/nltk_data...\n",
            "[nltk_data]    | Downloading package vader_lexicon to\n",
            "[nltk_data]    |     /root/nltk_data...\n",
            "[nltk_data]    | Downloading package verbnet to /root/nltk_data...\n",
            "[nltk_data]    |   Unzipping corpora/verbnet.zip.\n",
            "[nltk_data]    | Downloading package verbnet3 to /root/nltk_data...\n",
            "[nltk_data]    |   Unzipping corpora/verbnet3.zip.\n",
            "[nltk_data]    | Downloading package webtext to /root/nltk_data...\n",
            "[nltk_data]    |   Unzipping corpora/webtext.zip.\n",
            "[nltk_data]    | Downloading package wmt15_eval to /root/nltk_data...\n",
            "[nltk_data]    |   Unzipping models/wmt15_eval.zip.\n",
            "[nltk_data]    | Downloading package word2vec_sample to\n",
            "[nltk_data]    |     /root/nltk_data...\n",
            "[nltk_data]    |   Unzipping models/word2vec_sample.zip.\n",
            "[nltk_data]    | Downloading package wordnet to /root/nltk_data...\n",
            "[nltk_data]    | Downloading package wordnet2021 to /root/nltk_data...\n",
            "[nltk_data]    | Downloading package wordnet31 to /root/nltk_data...\n",
            "[nltk_data]    | Downloading package wordnet_ic to /root/nltk_data...\n",
            "[nltk_data]    |   Unzipping corpora/wordnet_ic.zip.\n",
            "[nltk_data]    | Downloading package words to /root/nltk_data...\n",
            "[nltk_data]    |   Unzipping corpora/words.zip.\n",
            "[nltk_data]    | Downloading package ycoe to /root/nltk_data...\n",
            "[nltk_data]    |   Unzipping corpora/ycoe.zip.\n",
            "[nltk_data]    | \n",
            "[nltk_data]  Done downloading collection all\n"
          ]
        },
        {
          "output_type": "execute_result",
          "data": {
            "text/plain": [
              "True"
            ]
          },
          "metadata": {},
          "execution_count": 24
        }
      ]
    },
    {
      "cell_type": "code",
      "metadata": {
        "id": "CHnLuuIYD6Kk"
      },
      "source": [
        "from nltk.tokenize import word_tokenize, sent_tokenize\n",
        "from nltk.tag import pos_tag # 품사판별\n",
        "from nltk.corpus import stopwords"
      ],
      "execution_count": 25,
      "outputs": []
    },
    {
      "cell_type": "markdown",
      "metadata": {
        "id": "aUNCjFWA43sw"
      },
      "source": [
        "* 영어 문장에 대해서 토큰화를 수행하고, 이어서 품사 태깅을 수행\n",
        "* PRP는 인칭 대명사, VBP는 동사, RB는 부사, VBG는 현재부사, IN은 전치사, NN은 명사, NNP는 고유 명사, NNS는 복수형 명사, CC는 접속사, DT는 관사를 의미"
      ]
    },
    {
      "cell_type": "code",
      "metadata": {
        "id": "YPbru9YNrCLs",
        "colab": {
          "base_uri": "https://localhost:8080/"
        },
        "outputId": "2f0f772c-bacc-43cb-cddc-020851264ccb"
      },
      "source": [
        "print(word_tokenize(cleaned_text[0]))\n",
        "\n",
        "# 토큰화되었는지 확인"
      ],
      "execution_count": 26,
      "outputs": [
        {
          "output_type": "stream",
          "name": "stdout",
          "text": [
            "['its', 'poll', 'time', 'folks']\n"
          ]
        }
      ]
    },
    {
      "cell_type": "code",
      "metadata": {
        "id": "8A6i2VU5rZLe",
        "colab": {
          "base_uri": "https://localhost:8080/"
        },
        "outputId": "932ff1fd-c5d5-49ad-d37d-00b6539b5ee4"
      },
      "source": [
        "all_nouns = []\n",
        "\n",
        "for t in range(len(cleaned_text)): # 전체 트윗 개수만큼 반복\n",
        "  x = word_tokenize(cleaned_text[t]) # 토큰화\n",
        "  words = pos_tag(x) # 품사 태깅\n",
        "  nouns = \"\"\n",
        "  for word, pos in words:\n",
        "    if pos in ['NN', 'NNP', 'NNS']: # 명사, 고유명사, 명사의 복수형 단어만 남긴다.\n",
        "      param = word      \n",
        "      nouns = nouns + param + \" \"\n",
        "  all_nouns.append(nouns)\n",
        "\n",
        "print(all_nouns)"
      ],
      "execution_count": 27,
      "outputs": [
        {
          "output_type": "stream",
          "name": "stdout",
          "text": [
            "['poll time folks ', '', 'python ides linux ', '', 'ones ', '', 'feel ', 'daysofcodechallenge daysofcode softwaredeveloper ', '', 'day ', 'python essentials course ', '', 'guide neuralnetworks️ ', '', '', 'datascience analytics cnn ml mac ', 'websites online ', '', 'infosec datascience python science cybersecurity commun ', 'python roadmap ', '', 'cybersecurity informationsecurity redteam technology data ', 'night jimmy kimmel joel begins june ', 'communitymovie ', 'joel albino burmese ', 'python project data youtube data api ', 'python ', '', 'design patterns design python type ', 'monty python swallows ', 'mi regalo por día hoy ', '', 'si quieres programar python este es mi curso desde cero ', '', 'fundamentos h y ', 'rust python cybersecurity security ', 'iron cross plane von ', 'python coding boot camps ', '', 'courses ', 'baggallini calais crossbody python print ', '', 'daysofcodechallenge daysofcode softwaredeveloper ', '', 'day ', 'python essentials course ', 'solv ', 'لمشهد من فيلم بريطاني ساخر من إنتاج عام إسمه ', 'monty pythons life brian ', 'بدقة وهم الإضطهاد التي يعي ', 'principalement dans ', 'rn ', 'intelligenceartificielle al ml ', 'datascience datascientists ', 'codenewbies ', 'python snakes ', '', 'tree ', '', 'httpstco ', 'c em ', 'rn ', 'al ml ', 'datascience datascientists ', 'codenewbies ', 'pythonkrakenex rest exchange api python ', 'lang python ', '⭐️ ', 'crypto ', '', 'grade calculator today percentage formula \\U0001fae4 day ', 'c في الغالب في ', 'آكانيوز ', 'الاصطناعي al ml ', 'datascience datascientists ', 'codenewbies ', 'c principalmente en ', 'rn ', 'al ml ', 'cienciadedatos científicosdedatos ', 'codenewbies ', 'c ', 'rn ', 'artificialintelligence al ml ', 'datascience datascientists ', 'codenewbies ', 'cyb ', 'プレイはすべて無料！ ', 'python、php、javascript、ruby、cなど言語で挑戦できるプログラミングゲーム！ ', '', '異世界に勇者パーティーとして召喚された新人itエンジニアの男女が人ーー ', '目覚めるとそこは、剣（コード）と魔 ', 'mi regalo por día hoy ', '', 'si quieres programar python este es mi curso desde cero ', '', 'fundamentos h y ', 'c ', 'rn ', 'artificialintelligence al ml ', 'datascience datascientists ', 'codenewbies ', 'hello guys youre tomorrow i flight family ', 'week i chatgpt ', 'review python ', 'prepare ml post ', 'interview prep ', 'design lecture ', 'tech i ', 'hello guys youre tomorrow i flight family decide ', 'detection flask ', 'flask python ', '', '動きが機敏な車輪付き脚ロボット ', '', '', 'robot python raspberrypi ros diablo direc ', 'endeavour monty python sketch ', 'tree python ', '新年あけましておめでとうございます。開発してきたサービスを正式リリースするのですが、フルリモートでお手伝い頂ける開発メンバーを募集しています。特にweb系でpython使える方、ご連絡頂けませんでしょうか？ ', 'pycraft thanks prog ', 'pycraft thanks prog ', 'learn python courses ', '', 'daysofcode daysofmlcode python j ', 'hacker kind problem contact bigdata datascience cybersecu ', 'python question ', '', 'output code ', 'hacker kind problem contact bigdata datascience ', 'ichef的話好像可理解。參加過他們公司某幾個人辦的每月python 聚會 ', 'في حل واجبات ', 'مشاريعالتخرج ', 'واجبات ', 'شبكات ', 'مشاريعتخرج ', 'أسايمنت ', 'مبرمج java flutter ', 'computation cuda bindings ', '', 'pee mak ', 'monty pythons grail ', 'monty pythons life brian ', 'monty pythons meaning life ', 'guys ', 'r ', 'ㅋㅋㅋㅅㅂ ', 'monty grail bloody weather ', 'algorithms data structures datasets udemycoupon onlinecourses ', 'monty pythons circus mighty boosh ', 'backoff retry errors python shell dockerfile ', 'webdev course udemy ', '', 'fullstack web development bootcamp ', '', '', '', 'dayso ', 'kalunkel imkerei honig github python shell dockerfile ', 'backoff retry errors python shell dockerfile ', 'algorithms data structures datasets udemycoupon onlinecourses ', 'algorithms data structures datasets udemycoupon onlinecourses ', 'i i wait room months diff ', 'people action discworld monty python ', '', 'hi ', 'chatgpt instructions script robotics healthte ', '【定期】 ', '将棋aiを作りはじめたい人へ ', '', 'よければ、こちらをどうぞ\\u200d♀️ ', '←プログラミングしたことが ', 'ない人も想定しています☺️ ', 'ランダム指しするaiを作れます ', '', 'pythonで将棋ソフト制作（全回） ', 'youtubeプレイリスト ', '', 'doesnt matter subzero temperatures🥶\\u200d❄️ ', '', 'website trial class today ', '', 'icode ', 'doesnt matter subzero temperatures🥶\\u200d❄️ ', '', 'website trial class today ', 'list element patterns question questio ', 'youre road python top bundle dollars ', '', 'run ', 'help python script seo ', '', 'comments ', 't ', 'fullstack roadmap ️ ', '', 'html css ', '️⃣ javascript ', '️⃣ git ', 'react vue ', '️⃣ tailwind ', 'python node ', '️⃣ p ', 'python coding boot camps ', '', 'courses ', 'mi regalo por día hoy ', '', 'si quieres programar python este es mi curso desde cero ', '', 'fundamentos h y ', 'die drukos sind dort monty pythonverdächtig ', 'python quiz | day | output code ', '', 'playlist httpstcoatz ', 'vs machine learning bigdata analytics datascience iot iiot python rst ', '簡単アドベンチャーゲーム ', '『モンスターロード』 ', 'のウィンドウとその中の部品の ', '画面処理について解説します。 ', '', 'パクるとゲーム以外でも使えますよ❗️ ', '', '⇩詳細はこちら ', '', 'python ウ ', 'day ', '', 'python python knowledge ', 'equivalent bbc master tap ', 'pay amounts money python data science machine learning ', '', 'learn experts g ', 'waitress python drops coffee shop ceiling ', 'excel gt ', 'learn sql gt ', 'learn tableau gt ', 'lear ', 'ethereum protocol principles decentr ', 'api queries ', '', 'python notebook google ', 'chatgpt serpapi cheat code generation analysis ', '', 'want ', 'colabのgpuやtpuは利用上限があるけれど、cpuだったら特に気にせずに使用できるのがいいね ', '', 'python プログラミング初心者 ', 'python developer synechron ', 'python developer type role technology location dallas states onl ', 'learn ', '', 'python → ', 'html → ', 'css → httpstcoaxefx ', 'tier skeletons github c powershell shell python ', 'data science projects datascience ', 'colabのgpuやtpuは利用上限があるけれど、cpuだったら特に気にせずに使用できるのがいいね ', '', 'python プログラミング初心者 ', 'linkedin github courses software development machine design tools langua ', 'learn python courses ', '', 'daysofcode daysofmlcode python j ', 'fullstack roadmap ️ ', '', 'html css ', '️⃣ javascript ', '️⃣ git ', 'react vue ', '️⃣ tailwind ', 'python node ', '️⃣ p ', 'thread python ', 'principalement dans ', 'rn ', 'intelligenceartificielle al ml ', 'datascience datascientists ', 'codenewbies ', 'コンピュータ・itで売上ランキング急上昇 ', '', '／ ', 'amazon書籍：第位 ', 'pythonでつくる 入門講座 ', '＼ ', '', '円 [ ] ', '', '⬇詳細はコチラ⬇ ', '', 'vs machine learning bigdata analytics datascience iot iiot python rst ', 'i chatgpt ', '', 'gt python program wave file eighth num ', 'night jimmy kimmel joel begins june ', 'communitymovie ', 'joel albino burmese ', 'python project data bigdata analytics datascience iot iiot python r ', 'você é o verdadeiro monty python que fizemos pelo caminho ', '', 'babies ocidente ', '', 'tu conhece muito ', 'kingdom i i marlon snake water ', 'week i chatgpt ', 'review python ', 'prepare ml post ', 'interview prep ', 'design lecture ', 'tech i ', 'principalement dans ', 'rn ', 'intelligenceartificielle al ml ', 'datascience datascientists ', 'codenewbies ', 'python course beginners ', '', 'content providers ', 'c في الغالب في ', 'آكانيوز ', 'الاصطناعي al ml ', 'datascience datascientists ', 'codenewbies ']\n"
          ]
        }
      ]
    },
    {
      "cell_type": "code",
      "metadata": {
        "id": "yJ3lrZfyAPyW",
        "colab": {
          "base_uri": "https://localhost:8080/"
        },
        "outputId": "8b5b361d-bfef-4448-c6b6-4ff2b23a03c8"
      },
      "source": [
        "# 한 트윗 안에 중복 단어가 있는지 점검\n",
        "\n",
        "file = open('dummy.txt', 'w')\n",
        "for article in all_nouns:\n",
        "  article = list(set(article.split())) # 단어별로 분리한 것을 set에 넣어 중복 제거하고, 다시 list로 변경\n",
        "  print(article)\n",
        "  for i in range(len(article)):\n",
        "    file.write(article[i]+' ')\n",
        "  file.write('\\n')\n",
        "file.close()\n",
        "  "
      ],
      "execution_count": 28,
      "outputs": [
        {
          "output_type": "stream",
          "name": "stdout",
          "text": [
            "['folks', 'time', 'poll']\n",
            "[]\n",
            "['linux', 'python', 'ides']\n",
            "[]\n",
            "['ones']\n",
            "[]\n",
            "['feel']\n",
            "['softwaredeveloper', 'daysofcode', 'daysofcodechallenge']\n",
            "[]\n",
            "['day']\n",
            "['course', 'python', 'essentials']\n",
            "[]\n",
            "['guide', 'neuralnetworks️']\n",
            "[]\n",
            "[]\n",
            "['datascience', 'ml', 'cnn', 'mac', 'analytics']\n",
            "['online', 'websites']\n",
            "[]\n",
            "['cybersecurity', 'datascience', 'python', 'commun', 'infosec', 'science']\n",
            "['roadmap', 'python']\n",
            "[]\n",
            "['informationsecurity', 'cybersecurity', 'technology', 'data', 'redteam']\n",
            "['night', 'kimmel', 'begins', 'jimmy', 'joel', 'june']\n",
            "['communitymovie']\n",
            "['albino', 'joel', 'burmese']\n",
            "['api', 'youtube', 'project', 'python', 'data']\n",
            "['python']\n",
            "[]\n",
            "['python', 'type', 'patterns', 'design']\n",
            "['python', 'monty', 'swallows']\n",
            "['día', 'hoy', 'mi', 'por', 'regalo']\n",
            "[]\n",
            "['cero', 'desde', 'programar', 'es', 'mi', 'este', 'si', 'curso', 'python', 'quieres']\n",
            "[]\n",
            "['fundamentos', 'h', 'y']\n",
            "['rust', 'python', 'cybersecurity', 'security']\n",
            "['cross', 'iron', 'von', 'plane']\n",
            "['camps', 'python', 'boot', 'coding']\n",
            "[]\n",
            "['courses']\n",
            "['crossbody', 'baggallini', 'print', 'python', 'calais']\n",
            "[]\n",
            "['softwaredeveloper', 'daysofcode', 'daysofcodechallenge']\n",
            "[]\n",
            "['day']\n",
            "['course', 'python', 'essentials']\n",
            "['solv']\n",
            "['عام', 'بريطاني', 'لمشهد', 'من', 'ساخر', 'إنتاج', 'فيلم', 'إسمه']\n",
            "['life', 'monty', 'pythons', 'brian']\n",
            "['بدقة', 'وهم', 'يعي', 'التي', 'الإضطهاد']\n",
            "['dans', 'principalement']\n",
            "['rn']\n",
            "['ml', 'al', 'intelligenceartificielle']\n",
            "['datascientists', 'datascience']\n",
            "['codenewbies']\n",
            "['snakes', 'python']\n",
            "[]\n",
            "['tree']\n",
            "[]\n",
            "['httpstco']\n",
            "['c', 'em']\n",
            "['rn']\n",
            "['ml', 'al']\n",
            "['datascientists', 'datascience']\n",
            "['codenewbies']\n",
            "['api', 'rest', 'pythonkrakenex', 'python', 'exchange']\n",
            "['python', 'lang']\n",
            "['⭐️']\n",
            "['crypto']\n",
            "[]\n",
            "['calculator', 'grade', '\\U0001fae4', 'day', 'formula', 'percentage', 'today']\n",
            "['c', 'الغالب', 'في']\n",
            "['آكانيوز']\n",
            "['ml', 'al', 'الاصطناعي']\n",
            "['datascientists', 'datascience']\n",
            "['codenewbies']\n",
            "['c', 'en', 'principalmente']\n",
            "['rn']\n",
            "['ml', 'al']\n",
            "['científicosdedatos', 'cienciadedatos']\n",
            "['codenewbies']\n",
            "['c']\n",
            "['rn']\n",
            "['ml', 'artificialintelligence', 'al']\n",
            "['datascientists', 'datascience']\n",
            "['codenewbies']\n",
            "['cyb']\n",
            "['プレイはすべて無料！']\n",
            "['python、php、javascript、ruby、cなど言語で挑戦できるプログラミングゲーム！']\n",
            "[]\n",
            "['異世界に勇者パーティーとして召喚された新人itエンジニアの男女が人ーー']\n",
            "['目覚めるとそこは、剣（コード）と魔']\n",
            "['día', 'hoy', 'mi', 'por', 'regalo']\n",
            "[]\n",
            "['cero', 'desde', 'programar', 'es', 'mi', 'este', 'si', 'curso', 'python', 'quieres']\n",
            "[]\n",
            "['fundamentos', 'h', 'y']\n",
            "['c']\n",
            "['rn']\n",
            "['ml', 'artificialintelligence', 'al']\n",
            "['datascientists', 'datascience']\n",
            "['codenewbies']\n",
            "['hello', 'family', 'i', 'tomorrow', 'youre', 'guys', 'flight']\n",
            "['i', 'week', 'chatgpt']\n",
            "['python', 'review']\n",
            "['ml', 'post', 'prepare']\n",
            "['prep', 'interview']\n",
            "['design', 'lecture']\n",
            "['tech', 'i']\n",
            "['hello', 'family', 'i', 'tomorrow', 'decide', 'youre', 'guys', 'flight']\n",
            "['flask', 'detection']\n",
            "['flask', 'python']\n",
            "[]\n",
            "['動きが機敏な車輪付き脚ロボット']\n",
            "[]\n",
            "[]\n",
            "['robot', 'python', 'ros', 'direc', 'diablo', 'raspberrypi']\n",
            "['python', 'endeavour', 'monty', 'sketch']\n",
            "['python', 'tree']\n",
            "['新年あけましておめでとうございます。開発してきたサービスを正式リリースするのですが、フルリモートでお手伝い頂ける開発メンバーを募集しています。特にweb系でpython使える方、ご連絡頂けませんでしょうか？']\n",
            "['thanks', 'prog', 'pycraft']\n",
            "['thanks', 'prog', 'pycraft']\n",
            "['learn', 'python', 'courses']\n",
            "[]\n",
            "['j', 'daysofcode', 'python', 'daysofmlcode']\n",
            "['problem', 'kind', 'hacker', 'datascience', 'contact', 'cybersecu', 'bigdata']\n",
            "['question', 'python']\n",
            "[]\n",
            "['output', 'code']\n",
            "['problem', 'kind', 'hacker', 'datascience', 'contact', 'bigdata']\n",
            "['聚會', 'ichef的話好像可理解。參加過他們公司某幾個人辦的每月python']\n",
            "['في', 'حل', 'واجبات']\n",
            "['مشاريعالتخرج']\n",
            "['واجبات']\n",
            "['شبكات']\n",
            "['مشاريعتخرج']\n",
            "['أسايمنت']\n",
            "['مبرمج', 'java', 'flutter']\n",
            "['computation', 'cuda', 'bindings']\n",
            "[]\n",
            "['mak', 'pee']\n",
            "['monty', 'pythons', 'grail']\n",
            "['life', 'monty', 'pythons', 'brian']\n",
            "['life', 'monty', 'meaning', 'pythons']\n",
            "['guys']\n",
            "['r']\n",
            "['ㅋㅋㅋㅅㅂ']\n",
            "['monty', 'weather', 'grail', 'bloody']\n",
            "['udemycoupon', 'datasets', 'structures', 'onlinecourses', 'data', 'algorithms']\n",
            "['pythons', 'mighty', 'monty', 'circus', 'boosh']\n",
            "['dockerfile', 'python', 'backoff', 'retry', 'shell', 'errors']\n",
            "['course', 'udemy', 'webdev']\n",
            "[]\n",
            "['fullstack', 'web', 'bootcamp', 'development']\n",
            "[]\n",
            "[]\n",
            "[]\n",
            "['dayso']\n",
            "['imkerei', 'honig', 'kalunkel', 'python', 'shell', 'github', 'dockerfile']\n",
            "['dockerfile', 'python', 'backoff', 'retry', 'shell', 'errors']\n",
            "['udemycoupon', 'datasets', 'structures', 'onlinecourses', 'data', 'algorithms']\n",
            "['udemycoupon', 'datasets', 'structures', 'onlinecourses', 'data', 'algorithms']\n",
            "['months', 'i', 'wait', 'diff', 'room']\n",
            "['monty', 'action', 'people', 'python', 'discworld']\n",
            "[]\n",
            "['hi']\n",
            "['robotics', 'healthte', 'script', 'chatgpt', 'instructions']\n",
            "['【定期】']\n",
            "['将棋aiを作りはじめたい人へ']\n",
            "[]\n",
            "['よければ、こちらをどうぞ\\u200d♀️']\n",
            "['←プログラミングしたことが']\n",
            "['ない人も想定しています☺️']\n",
            "['ランダム指しするaiを作れます']\n",
            "[]\n",
            "['pythonで将棋ソフト制作（全回）']\n",
            "['youtubeプレイリスト']\n",
            "[]\n",
            "['matter', 'subzero', 'doesnt', 'temperatures🥶\\u200d❄️']\n",
            "[]\n",
            "['website', 'trial', 'today', 'class']\n",
            "[]\n",
            "['icode']\n",
            "['matter', 'subzero', 'doesnt', 'temperatures🥶\\u200d❄️']\n",
            "[]\n",
            "['website', 'trial', 'today', 'class']\n",
            "['patterns', 'element', 'questio', 'question', 'list']\n",
            "['road', 'bundle', 'top', 'python', 'youre', 'dollars']\n",
            "[]\n",
            "['run']\n",
            "['seo', 'help', 'python', 'script']\n",
            "[]\n",
            "['comments']\n",
            "['t']\n",
            "['fullstack', 'roadmap', '️']\n",
            "[]\n",
            "['css', 'html']\n",
            "['javascript', '️⃣']\n",
            "['git', '️⃣']\n",
            "['vue', 'react']\n",
            "['tailwind', '️⃣']\n",
            "['python', 'node']\n",
            "['p', '️⃣']\n",
            "['camps', 'python', 'boot', 'coding']\n",
            "[]\n",
            "['courses']\n",
            "['día', 'hoy', 'mi', 'por', 'regalo']\n",
            "[]\n",
            "['cero', 'desde', 'programar', 'es', 'mi', 'este', 'si', 'curso', 'python', 'quieres']\n",
            "[]\n",
            "['fundamentos', 'h', 'y']\n",
            "['dort', 'pythonverdächtig', 'sind', 'monty', 'drukos', 'die']\n",
            "['|', 'day', 'python', 'quiz', 'output', 'code']\n",
            "[]\n",
            "['playlist', 'httpstcoatz']\n",
            "['iot', 'rst', 'iiot', 'datascience', 'python', 'machine', 'learning', 'vs', 'bigdata', 'analytics']\n",
            "['簡単アドベンチャーゲーム']\n",
            "['『モンスターロード』']\n",
            "['のウィンドウとその中の部品の']\n",
            "['画面処理について解説します。']\n",
            "[]\n",
            "['パクるとゲーム以外でも使えますよ❗️']\n",
            "[]\n",
            "['⇩詳細はこちら']\n",
            "[]\n",
            "['ウ', 'python']\n",
            "['day']\n",
            "[]\n",
            "['python', 'knowledge']\n",
            "['equivalent', 'tap', 'master', 'bbc']\n",
            "['amounts', 'money', 'python', 'machine', 'data', 'learning', 'science', 'pay']\n",
            "[]\n",
            "['learn', 'g', 'experts']\n",
            "['drops', 'python', 'coffee', 'waitress', 'shop', 'ceiling']\n",
            "['excel', 'gt']\n",
            "['learn', 'sql', 'gt']\n",
            "['gt', 'learn', 'tableau']\n",
            "['lear']\n",
            "['protocol', 'decentr', 'principles', 'ethereum']\n",
            "['queries', 'api']\n",
            "[]\n",
            "['notebook', 'python', 'google']\n",
            "['analysis', 'cheat', 'generation', 'serpapi', 'chatgpt', 'code']\n",
            "[]\n",
            "['want']\n",
            "['colabのgpuやtpuは利用上限があるけれど、cpuだったら特に気にせずに使用できるのがいいね']\n",
            "[]\n",
            "['python', 'プログラミング初心者']\n",
            "['python', 'synechron', 'developer']\n",
            "['onl', 'technology', 'developer', 'python', 'role', 'dallas', 'states', 'location', 'type']\n",
            "['learn']\n",
            "[]\n",
            "['python', '→']\n",
            "['html', '→']\n",
            "['css', 'httpstcoaxefx', '→']\n",
            "['c', 'powershell', 'tier', 'skeletons', 'python', 'shell', 'github']\n",
            "['datascience', 'science', 'data', 'projects']\n",
            "['colabのgpuやtpuは利用上限があるけれど、cpuだったら特に気にせずに使用できるのがいいね']\n",
            "[]\n",
            "['python', 'プログラミング初心者']\n",
            "['development', 'linkedin', 'software', 'design', 'courses', 'machine', 'tools', 'github', 'langua']\n",
            "['learn', 'python', 'courses']\n",
            "[]\n",
            "['j', 'daysofcode', 'python', 'daysofmlcode']\n",
            "['fullstack', 'roadmap', '️']\n",
            "[]\n",
            "['css', 'html']\n",
            "['javascript', '️⃣']\n",
            "['git', '️⃣']\n",
            "['vue', 'react']\n",
            "['tailwind', '️⃣']\n",
            "['python', 'node']\n",
            "['p', '️⃣']\n",
            "['python', 'thread']\n",
            "['dans', 'principalement']\n",
            "['rn']\n",
            "['ml', 'al', 'intelligenceartificielle']\n",
            "['datascientists', 'datascience']\n",
            "['codenewbies']\n",
            "['コンピュータ・itで売上ランキング急上昇']\n",
            "[]\n",
            "['／']\n",
            "['amazon書籍：第位']\n",
            "['入門講座', 'pythonでつくる']\n",
            "['＼']\n",
            "[]\n",
            "[']', '[', '円']\n",
            "[]\n",
            "['⬇詳細はコチラ⬇']\n",
            "[]\n",
            "['iot', 'rst', 'iiot', 'datascience', 'python', 'machine', 'learning', 'vs', 'bigdata', 'analytics']\n",
            "['i', 'chatgpt']\n",
            "[]\n",
            "['wave', 'num', 'python', 'file', 'program', 'gt', 'eighth']\n",
            "['night', 'kimmel', 'begins', 'jimmy', 'joel', 'june']\n",
            "['communitymovie']\n",
            "['albino', 'joel', 'burmese']\n",
            "['iot', 'iiot', 'datascience', 'project', 'python', 'data', 'r', 'bigdata', 'analytics']\n",
            "['que', 'fizemos', 'pelo', 'monty', 'verdadeiro', 'caminho', 'python', 'é', 'o', 'você']\n",
            "[]\n",
            "['ocidente', 'babies']\n",
            "[]\n",
            "['tu', 'muito', 'conhece']\n",
            "['water', 'kingdom', 'i', 'snake', 'marlon']\n",
            "['i', 'week', 'chatgpt']\n",
            "['python', 'review']\n",
            "['ml', 'post', 'prepare']\n",
            "['prep', 'interview']\n",
            "['design', 'lecture']\n",
            "['tech', 'i']\n",
            "['dans', 'principalement']\n",
            "['rn']\n",
            "['ml', 'al', 'intelligenceartificielle']\n",
            "['datascientists', 'datascience']\n",
            "['codenewbies']\n",
            "['course', 'python', 'beginners']\n",
            "[]\n",
            "['content', 'providers']\n",
            "['c', 'الغالب', 'في']\n",
            "['آكانيوز']\n",
            "['ml', 'al', 'الاصطناعي']\n",
            "['datascientists', 'datascience']\n",
            "['codenewbies']\n"
          ]
        }
      ]
    },
    {
      "cell_type": "markdown",
      "source": [
        "#### 단어의 동시 출현 빈도 count"
      ],
      "metadata": {
        "id": "DCjVhdF2wJU_"
      }
    },
    {
      "cell_type": "code",
      "metadata": {
        "id": "mEBg7tsVdnci",
        "colab": {
          "base_uri": "https://localhost:8080/"
        },
        "outputId": "93a96e41-1be9-4408-e64c-27be84ee9f88"
      },
      "source": [
        "count = {}   # 동시출현 빈도가 저장될 딕셔너리\n",
        "\n",
        "for article in open('dummy.txt'):\n",
        "  article = list(set(article.split())) # 단어별로 분리한 것을 set에 넣어 중복 제거하고, 다시 list로 변경\n",
        "  for i, a in enumerate(article): # 인덱스와 원소를 동시에 접근하면서 반복문 돌기\n",
        "    for b in article[i:]:\n",
        "      if a==b: \n",
        "        # 같은 단어의 경우는 세지 않으므로 그냥 지나간다\n",
        "        # 여기에 작성\n",
        "        continue\n",
        "\n",
        "      if a>b: \n",
        "        a,b = b,a         # A, B와 B, A가 다르게 세어지는것을 막기 위해 항상 a < b로 순서 고정\n",
        "        count[a, b] = count.get((a,b),0)+1   # 실제로 센다\n",
        "        b,a = a,b\n",
        "      elif a<b:\n",
        "        count[a, b] = count.get((a,b),0)+1   # 실제로 센다\n",
        "print(count)"
      ],
      "execution_count": 29,
      "outputs": [
        {
          "output_type": "stream",
          "name": "stdout",
          "text": [
            "{('folks', 'time'): 1, ('folks', 'poll'): 1, ('poll', 'time'): 1, ('linux', 'python'): 1, ('ides', 'linux'): 1, ('ides', 'python'): 1, ('daysofcode', 'softwaredeveloper'): 2, ('daysofcode', 'daysofcodechallenge'): 2, ('daysofcodechallenge', 'softwaredeveloper'): 2, ('course', 'python'): 3, ('course', 'essentials'): 2, ('essentials', 'python'): 2, ('guide', 'neuralnetworks️'): 1, ('datascience', 'ml'): 1, ('cnn', 'datascience'): 1, ('datascience', 'mac'): 1, ('analytics', 'datascience'): 4, ('cnn', 'ml'): 1, ('mac', 'ml'): 1, ('analytics', 'ml'): 1, ('cnn', 'mac'): 1, ('analytics', 'cnn'): 1, ('analytics', 'mac'): 1, ('online', 'websites'): 1, ('cybersecurity', 'datascience'): 1, ('cybersecurity', 'python'): 2, ('commun', 'cybersecurity'): 1, ('cybersecurity', 'infosec'): 1, ('cybersecurity', 'science'): 1, ('datascience', 'python'): 4, ('commun', 'datascience'): 1, ('datascience', 'infosec'): 1, ('datascience', 'science'): 2, ('commun', 'python'): 1, ('infosec', 'python'): 1, ('python', 'science'): 2, ('commun', 'infosec'): 1, ('commun', 'science'): 1, ('infosec', 'science'): 1, ('python', 'roadmap'): 1, ('cybersecurity', 'informationsecurity'): 1, ('informationsecurity', 'technology'): 1, ('data', 'informationsecurity'): 1, ('informationsecurity', 'redteam'): 1, ('cybersecurity', 'technology'): 1, ('cybersecurity', 'data'): 1, ('cybersecurity', 'redteam'): 1, ('data', 'technology'): 1, ('redteam', 'technology'): 1, ('data', 'redteam'): 1, ('kimmel', 'night'): 2, ('begins', 'night'): 2, ('jimmy', 'night'): 2, ('joel', 'night'): 2, ('june', 'night'): 2, ('begins', 'kimmel'): 2, ('jimmy', 'kimmel'): 2, ('joel', 'kimmel'): 2, ('june', 'kimmel'): 2, ('begins', 'jimmy'): 2, ('begins', 'joel'): 2, ('begins', 'june'): 2, ('jimmy', 'joel'): 2, ('jimmy', 'june'): 2, ('joel', 'june'): 2, ('albino', 'joel'): 2, ('albino', 'burmese'): 2, ('burmese', 'joel'): 2, ('api', 'youtube'): 1, ('api', 'project'): 1, ('api', 'python'): 2, ('api', 'data'): 1, ('project', 'youtube'): 1, ('python', 'youtube'): 1, ('data', 'youtube'): 1, ('project', 'python'): 2, ('data', 'project'): 2, ('data', 'python'): 3, ('python', 'type'): 2, ('patterns', 'python'): 1, ('design', 'python'): 1, ('patterns', 'type'): 1, ('design', 'type'): 1, ('design', 'patterns'): 1, ('python', 'swallows'): 1, ('monty', 'swallows'): 1, ('monty', 'python'): 4, ('día', 'hoy'): 3, ('día', 'mi'): 3, ('día', 'por'): 3, ('día', 'regalo'): 3, ('hoy', 'mi'): 3, ('hoy', 'por'): 3, ('hoy', 'regalo'): 3, ('mi', 'por'): 3, ('mi', 'regalo'): 3, ('por', 'regalo'): 3, ('cero', 'desde'): 3, ('cero', 'programar'): 3, ('cero', 'es'): 3, ('cero', 'mi'): 3, ('cero', 'este'): 3, ('cero', 'si'): 3, ('cero', 'curso'): 3, ('cero', 'python'): 3, ('cero', 'quieres'): 3, ('desde', 'programar'): 3, ('desde', 'es'): 3, ('desde', 'mi'): 3, ('desde', 'este'): 3, ('desde', 'si'): 3, ('curso', 'desde'): 3, ('desde', 'python'): 3, ('desde', 'quieres'): 3, ('es', 'programar'): 3, ('mi', 'programar'): 3, ('este', 'programar'): 3, ('programar', 'si'): 3, ('curso', 'programar'): 3, ('programar', 'python'): 3, ('programar', 'quieres'): 3, ('es', 'mi'): 3, ('es', 'este'): 3, ('es', 'si'): 3, ('curso', 'es'): 3, ('es', 'python'): 3, ('es', 'quieres'): 3, ('este', 'mi'): 3, ('mi', 'si'): 3, ('curso', 'mi'): 3, ('mi', 'python'): 3, ('mi', 'quieres'): 3, ('este', 'si'): 3, ('curso', 'este'): 3, ('este', 'python'): 3, ('este', 'quieres'): 3, ('curso', 'si'): 3, ('python', 'si'): 3, ('quieres', 'si'): 3, ('curso', 'python'): 3, ('curso', 'quieres'): 3, ('python', 'quieres'): 3, ('fundamentos', 'h'): 3, ('fundamentos', 'y'): 3, ('h', 'y'): 3, ('python', 'rust'): 1, ('cybersecurity', 'rust'): 1, ('rust', 'security'): 1, ('python', 'security'): 1, ('cybersecurity', 'security'): 1, ('cross', 'iron'): 1, ('cross', 'von'): 1, ('cross', 'plane'): 1, ('iron', 'von'): 1, ('iron', 'plane'): 1, ('plane', 'von'): 1, ('boot', 'python'): 2, ('camps', 'python'): 2, ('coding', 'python'): 2, ('boot', 'camps'): 2, ('boot', 'coding'): 2, ('camps', 'coding'): 2, ('baggallini', 'crossbody'): 1, ('crossbody', 'print'): 1, ('crossbody', 'python'): 1, ('calais', 'crossbody'): 1, ('baggallini', 'print'): 1, ('baggallini', 'python'): 1, ('baggallini', 'calais'): 1, ('print', 'python'): 1, ('calais', 'print'): 1, ('calais', 'python'): 1, ('بريطاني', 'عام'): 1, ('عام', 'لمشهد'): 1, ('عام', 'من'): 1, ('ساخر', 'عام'): 1, ('إنتاج', 'عام'): 1, ('عام', 'فيلم'): 1, ('إسمه', 'عام'): 1, ('بريطاني', 'لمشهد'): 1, ('بريطاني', 'من'): 1, ('بريطاني', 'ساخر'): 1, ('إنتاج', 'بريطاني'): 1, ('بريطاني', 'فيلم'): 1, ('إسمه', 'بريطاني'): 1, ('لمشهد', 'من'): 1, ('ساخر', 'لمشهد'): 1, ('إنتاج', 'لمشهد'): 1, ('فيلم', 'لمشهد'): 1, ('إسمه', 'لمشهد'): 1, ('ساخر', 'من'): 1, ('إنتاج', 'من'): 1, ('فيلم', 'من'): 1, ('إسمه', 'من'): 1, ('إنتاج', 'ساخر'): 1, ('ساخر', 'فيلم'): 1, ('إسمه', 'ساخر'): 1, ('إنتاج', 'فيلم'): 1, ('إسمه', 'إنتاج'): 1, ('إسمه', 'فيلم'): 1, ('life', 'monty'): 3, ('life', 'pythons'): 3, ('brian', 'life'): 2, ('monty', 'pythons'): 5, ('brian', 'monty'): 2, ('brian', 'pythons'): 2, ('بدقة', 'وهم'): 1, ('بدقة', 'يعي'): 1, ('التي', 'بدقة'): 1, ('الإضطهاد', 'بدقة'): 1, ('وهم', 'يعي'): 1, ('التي', 'وهم'): 1, ('الإضطهاد', 'وهم'): 1, ('التي', 'يعي'): 1, ('الإضطهاد', 'يعي'): 1, ('الإضطهاد', 'التي'): 1, ('dans', 'principalement'): 3, ('al', 'ml'): 9, ('intelligenceartificielle', 'ml'): 3, ('al', 'intelligenceartificielle'): 3, ('datascience', 'datascientists'): 8, ('python', 'snakes'): 1, ('c', 'em'): 1, ('api', 'rest'): 1, ('api', 'pythonkrakenex'): 1, ('api', 'exchange'): 1, ('pythonkrakenex', 'rest'): 1, ('python', 'rest'): 1, ('exchange', 'rest'): 1, ('python', 'pythonkrakenex'): 1, ('exchange', 'pythonkrakenex'): 1, ('exchange', 'python'): 1, ('lang', 'python'): 1, ('calculator', 'grade'): 1, ('calculator', 'day'): 1, ('calculator', '\\U0001fae4'): 1, ('calculator', 'formula'): 1, ('calculator', 'percentage'): 1, ('calculator', 'today'): 1, ('day', 'grade'): 1, ('grade', '\\U0001fae4'): 1, ('formula', 'grade'): 1, ('grade', 'percentage'): 1, ('grade', 'today'): 1, ('day', '\\U0001fae4'): 1, ('day', 'formula'): 1, ('day', 'percentage'): 1, ('day', 'today'): 1, ('formula', '\\U0001fae4'): 1, ('percentage', '\\U0001fae4'): 1, ('today', '\\U0001fae4'): 1, ('formula', 'percentage'): 1, ('formula', 'today'): 1, ('percentage', 'today'): 1, ('c', 'الغالب'): 2, ('c', 'في'): 2, ('الغالب', 'في'): 2, ('ml', 'الاصطناعي'): 2, ('al', 'الاصطناعي'): 2, ('c', 'en'): 1, ('c', 'principalmente'): 1, ('en', 'principalmente'): 1, ('cienciadedatos', 'científicosdedatos'): 1, ('artificialintelligence', 'ml'): 2, ('al', 'artificialintelligence'): 2, ('family', 'hello'): 2, ('family', 'i'): 2, ('family', 'tomorrow'): 2, ('family', 'youre'): 2, ('family', 'guys'): 2, ('family', 'flight'): 2, ('hello', 'i'): 2, ('hello', 'tomorrow'): 2, ('hello', 'youre'): 2, ('guys', 'hello'): 2, ('flight', 'hello'): 2, ('i', 'tomorrow'): 2, ('i', 'youre'): 2, ('guys', 'i'): 2, ('flight', 'i'): 2, ('tomorrow', 'youre'): 2, ('guys', 'tomorrow'): 2, ('flight', 'tomorrow'): 2, ('guys', 'youre'): 2, ('flight', 'youre'): 2, ('flight', 'guys'): 2, ('i', 'week'): 2, ('chatgpt', 'i'): 3, ('chatgpt', 'week'): 2, ('python', 'review'): 2, ('ml', 'prepare'): 2, ('ml', 'post'): 2, ('post', 'prepare'): 2, ('interview', 'prep'): 2, ('design', 'lecture'): 2, ('i', 'tech'): 2, ('decide', 'family'): 1, ('decide', 'hello'): 1, ('decide', 'i'): 1, ('decide', 'tomorrow'): 1, ('decide', 'youre'): 1, ('decide', 'guys'): 1, ('decide', 'flight'): 1, ('detection', 'flask'): 1, ('flask', 'python'): 1, ('python', 'robot'): 1, ('robot', 'ros'): 1, ('direc', 'robot'): 1, ('diablo', 'robot'): 1, ('raspberrypi', 'robot'): 1, ('python', 'ros'): 1, ('direc', 'python'): 1, ('diablo', 'python'): 1, ('python', 'raspberrypi'): 1, ('direc', 'ros'): 1, ('diablo', 'ros'): 1, ('raspberrypi', 'ros'): 1, ('diablo', 'direc'): 1, ('direc', 'raspberrypi'): 1, ('diablo', 'raspberrypi'): 1, ('endeavour', 'python'): 1, ('python', 'sketch'): 1, ('endeavour', 'monty'): 1, ('endeavour', 'sketch'): 1, ('monty', 'sketch'): 1, ('python', 'tree'): 1, ('prog', 'thanks'): 2, ('pycraft', 'thanks'): 2, ('prog', 'pycraft'): 2, ('learn', 'python'): 2, ('courses', 'learn'): 2, ('courses', 'python'): 2, ('daysofcode', 'j'): 2, ('j', 'python'): 2, ('daysofmlcode', 'j'): 2, ('daysofcode', 'python'): 2, ('daysofcode', 'daysofmlcode'): 2, ('daysofmlcode', 'python'): 2, ('hacker', 'problem'): 2, ('kind', 'problem'): 2, ('datascience', 'problem'): 2, ('bigdata', 'problem'): 2, ('cybersecu', 'problem'): 1, ('contact', 'problem'): 2, ('hacker', 'kind'): 2, ('datascience', 'hacker'): 2, ('bigdata', 'hacker'): 2, ('cybersecu', 'hacker'): 1, ('contact', 'hacker'): 2, ('datascience', 'kind'): 2, ('bigdata', 'kind'): 2, ('cybersecu', 'kind'): 1, ('contact', 'kind'): 2, ('bigdata', 'datascience'): 5, ('cybersecu', 'datascience'): 1, ('contact', 'datascience'): 2, ('bigdata', 'cybersecu'): 1, ('bigdata', 'contact'): 2, ('contact', 'cybersecu'): 1, ('python', 'question'): 1, ('code', 'output'): 2, ('ichef的話好像可理解。參加過他們公司某幾個人辦的每月python', '聚會'): 1, ('حل', 'في'): 1, ('في', 'واجبات'): 1, ('حل', 'واجبات'): 1, ('java', 'مبرمج'): 1, ('flutter', 'مبرمج'): 1, ('flutter', 'java'): 1, ('computation', 'cuda'): 1, ('bindings', 'computation'): 1, ('bindings', 'cuda'): 1, ('mak', 'pee'): 1, ('grail', 'monty'): 2, ('grail', 'pythons'): 1, ('life', 'meaning'): 1, ('meaning', 'monty'): 1, ('meaning', 'pythons'): 1, ('monty', 'weather'): 1, ('bloody', 'monty'): 1, ('grail', 'weather'): 1, ('bloody', 'weather'): 1, ('bloody', 'grail'): 1, ('datasets', 'udemycoupon'): 3, ('structures', 'udemycoupon'): 3, ('onlinecourses', 'udemycoupon'): 3, ('data', 'udemycoupon'): 3, ('algorithms', 'udemycoupon'): 3, ('datasets', 'structures'): 3, ('datasets', 'onlinecourses'): 3, ('data', 'datasets'): 3, ('algorithms', 'datasets'): 3, ('onlinecourses', 'structures'): 3, ('data', 'structures'): 3, ('algorithms', 'structures'): 3, ('data', 'onlinecourses'): 3, ('algorithms', 'onlinecourses'): 3, ('algorithms', 'data'): 3, ('mighty', 'pythons'): 1, ('circus', 'pythons'): 1, ('boosh', 'pythons'): 1, ('mighty', 'monty'): 1, ('circus', 'mighty'): 1, ('boosh', 'mighty'): 1, ('circus', 'monty'): 1, ('boosh', 'monty'): 1, ('boosh', 'circus'): 1, ('errors', 'python'): 2, ('backoff', 'errors'): 2, ('errors', 'retry'): 2, ('errors', 'shell'): 2, ('dockerfile', 'errors'): 2, ('backoff', 'python'): 2, ('python', 'retry'): 2, ('python', 'shell'): 4, ('dockerfile', 'python'): 3, ('backoff', 'retry'): 2, ('backoff', 'shell'): 2, ('backoff', 'dockerfile'): 2, ('retry', 'shell'): 2, ('dockerfile', 'retry'): 2, ('dockerfile', 'shell'): 3, ('course', 'udemy'): 1, ('course', 'webdev'): 1, ('udemy', 'webdev'): 1, ('fullstack', 'web'): 1, ('bootcamp', 'fullstack'): 1, ('development', 'fullstack'): 1, ('bootcamp', 'web'): 1, ('development', 'web'): 1, ('bootcamp', 'development'): 1, ('honig', 'imkerei'): 1, ('imkerei', 'kalunkel'): 1, ('imkerei', 'python'): 1, ('imkerei', 'shell'): 1, ('github', 'imkerei'): 1, ('dockerfile', 'imkerei'): 1, ('honig', 'kalunkel'): 1, ('honig', 'python'): 1, ('honig', 'shell'): 1, ('github', 'honig'): 1, ('dockerfile', 'honig'): 1, ('kalunkel', 'python'): 1, ('kalunkel', 'shell'): 1, ('github', 'kalunkel'): 1, ('dockerfile', 'kalunkel'): 1, ('github', 'python'): 2, ('github', 'shell'): 2, ('dockerfile', 'github'): 1, ('i', 'months'): 1, ('months', 'wait'): 1, ('diff', 'months'): 1, ('months', 'room'): 1, ('i', 'wait'): 1, ('diff', 'i'): 1, ('i', 'room'): 1, ('diff', 'wait'): 1, ('room', 'wait'): 1, ('diff', 'room'): 1, ('action', 'monty'): 1, ('monty', 'people'): 1, ('discworld', 'monty'): 1, ('action', 'people'): 1, ('action', 'python'): 1, ('action', 'discworld'): 1, ('people', 'python'): 1, ('discworld', 'people'): 1, ('discworld', 'python'): 1, ('healthte', 'robotics'): 1, ('robotics', 'script'): 1, ('chatgpt', 'robotics'): 1, ('instructions', 'robotics'): 1, ('healthte', 'script'): 1, ('chatgpt', 'healthte'): 1, ('healthte', 'instructions'): 1, ('chatgpt', 'script'): 1, ('instructions', 'script'): 1, ('chatgpt', 'instructions'): 1, ('matter', 'subzero'): 2, ('doesnt', 'matter'): 2, ('matter', 'temperatures🥶\\u200d❄️'): 2, ('doesnt', 'subzero'): 2, ('subzero', 'temperatures🥶\\u200d❄️'): 2, ('doesnt', 'temperatures🥶\\u200d❄️'): 2, ('trial', 'website'): 2, ('today', 'website'): 2, ('class', 'website'): 2, ('today', 'trial'): 2, ('class', 'trial'): 2, ('class', 'today'): 2, ('element', 'patterns'): 1, ('patterns', 'questio'): 1, ('patterns', 'question'): 1, ('list', 'patterns'): 1, ('element', 'questio'): 1, ('element', 'question'): 1, ('element', 'list'): 1, ('questio', 'question'): 1, ('list', 'questio'): 1, ('list', 'question'): 1, ('bundle', 'road'): 1, ('bundle', 'top'): 1, ('bundle', 'python'): 1, ('bundle', 'youre'): 1, ('bundle', 'dollars'): 1, ('road', 'top'): 1, ('python', 'road'): 1, ('road', 'youre'): 1, ('dollars', 'road'): 1, ('python', 'top'): 1, ('top', 'youre'): 1, ('dollars', 'top'): 1, ('python', 'youre'): 1, ('dollars', 'python'): 1, ('dollars', 'youre'): 1, ('help', 'seo'): 1, ('python', 'seo'): 1, ('script', 'seo'): 1, ('help', 'python'): 1, ('help', 'script'): 1, ('python', 'script'): 1, ('fullstack', 'roadmap'): 2, ('fullstack', '️'): 2, ('roadmap', '️'): 2, ('css', 'html'): 2, ('javascript', '️⃣'): 2, ('git', '️⃣'): 2, ('react', 'vue'): 2, ('tailwind', '️⃣'): 2, ('node', 'python'): 2, ('p', '️⃣'): 2, ('dort', 'sind'): 1, ('die', 'dort'): 1, ('dort', 'monty'): 1, ('dort', 'drukos'): 1, ('dort', 'pythonverdächtig'): 1, ('die', 'sind'): 1, ('monty', 'sind'): 1, ('drukos', 'sind'): 1, ('pythonverdächtig', 'sind'): 1, ('die', 'monty'): 1, ('die', 'drukos'): 1, ('die', 'pythonverdächtig'): 1, ('drukos', 'monty'): 1, ('monty', 'pythonverdächtig'): 1, ('drukos', 'pythonverdächtig'): 1, ('day', '|'): 1, ('python', '|'): 1, ('quiz', '|'): 1, ('output', '|'): 1, ('code', '|'): 1, ('day', 'python'): 1, ('day', 'quiz'): 1, ('day', 'output'): 1, ('code', 'day'): 1, ('python', 'quiz'): 1, ('output', 'python'): 1, ('code', 'python'): 1, ('output', 'quiz'): 1, ('code', 'quiz'): 1, ('httpstcoatz', 'playlist'): 1, ('iot', 'rst'): 2, ('iiot', 'iot'): 3, ('datascience', 'iot'): 3, ('iot', 'python'): 3, ('iot', 'machine'): 2, ('iot', 'learning'): 2, ('iot', 'vs'): 2, ('bigdata', 'iot'): 3, ('analytics', 'iot'): 3, ('iiot', 'rst'): 2, ('datascience', 'rst'): 2, ('python', 'rst'): 2, ('machine', 'rst'): 2, ('learning', 'rst'): 2, ('rst', 'vs'): 2, ('bigdata', 'rst'): 2, ('analytics', 'rst'): 2, ('datascience', 'iiot'): 3, ('iiot', 'python'): 3, ('iiot', 'machine'): 2, ('iiot', 'learning'): 2, ('iiot', 'vs'): 2, ('bigdata', 'iiot'): 3, ('analytics', 'iiot'): 3, ('datascience', 'machine'): 2, ('datascience', 'learning'): 2, ('datascience', 'vs'): 2, ('machine', 'python'): 3, ('learning', 'python'): 3, ('python', 'vs'): 2, ('bigdata', 'python'): 3, ('analytics', 'python'): 3, ('learning', 'machine'): 3, ('machine', 'vs'): 2, ('bigdata', 'machine'): 2, ('analytics', 'machine'): 2, ('learning', 'vs'): 2, ('bigdata', 'learning'): 2, ('analytics', 'learning'): 2, ('bigdata', 'vs'): 2, ('analytics', 'vs'): 2, ('analytics', 'bigdata'): 3, ('python', 'ウ'): 1, ('knowledge', 'python'): 1, ('bbc', 'equivalent'): 1, ('equivalent', 'tap'): 1, ('equivalent', 'master'): 1, ('bbc', 'tap'): 1, ('bbc', 'master'): 1, ('master', 'tap'): 1, ('amounts', 'money'): 1, ('amounts', 'python'): 1, ('amounts', 'machine'): 1, ('amounts', 'data'): 1, ('amounts', 'learning'): 1, ('amounts', 'science'): 1, ('amounts', 'pay'): 1, ('money', 'python'): 1, ('machine', 'money'): 1, ('data', 'money'): 1, ('learning', 'money'): 1, ('money', 'science'): 1, ('money', 'pay'): 1, ('pay', 'python'): 1, ('data', 'machine'): 1, ('machine', 'science'): 1, ('machine', 'pay'): 1, ('data', 'learning'): 1, ('data', 'science'): 2, ('data', 'pay'): 1, ('learning', 'science'): 1, ('learning', 'pay'): 1, ('pay', 'science'): 1, ('experts', 'learn'): 1, ('g', 'learn'): 1, ('experts', 'g'): 1, ('drops', 'python'): 1, ('coffee', 'drops'): 1, ('drops', 'waitress'): 1, ('drops', 'shop'): 1, ('ceiling', 'drops'): 1, ('coffee', 'python'): 1, ('python', 'waitress'): 1, ('python', 'shop'): 1, ('ceiling', 'python'): 1, ('coffee', 'waitress'): 1, ('coffee', 'shop'): 1, ('ceiling', 'coffee'): 1, ('shop', 'waitress'): 1, ('ceiling', 'waitress'): 1, ('ceiling', 'shop'): 1, ('excel', 'gt'): 1, ('learn', 'sql'): 1, ('gt', 'learn'): 2, ('gt', 'sql'): 1, ('learn', 'tableau'): 1, ('gt', 'tableau'): 1, ('decentr', 'protocol'): 1, ('principles', 'protocol'): 1, ('ethereum', 'protocol'): 1, ('decentr', 'principles'): 1, ('decentr', 'ethereum'): 1, ('ethereum', 'principles'): 1, ('api', 'queries'): 1, ('notebook', 'python'): 1, ('google', 'notebook'): 1, ('google', 'python'): 1, ('analysis', 'cheat'): 1, ('analysis', 'generation'): 1, ('analysis', 'serpapi'): 1, ('analysis', 'chatgpt'): 1, ('analysis', 'code'): 1, ('cheat', 'generation'): 1, ('cheat', 'serpapi'): 1, ('chatgpt', 'cheat'): 1, ('cheat', 'code'): 1, ('generation', 'serpapi'): 1, ('chatgpt', 'generation'): 1, ('code', 'generation'): 1, ('chatgpt', 'serpapi'): 1, ('code', 'serpapi'): 1, ('chatgpt', 'code'): 1, ('python', 'プログラミング初心者'): 2, ('python', 'synechron'): 1, ('developer', 'python'): 2, ('developer', 'synechron'): 1, ('onl', 'technology'): 1, ('developer', 'onl'): 1, ('onl', 'python'): 1, ('onl', 'role'): 1, ('dallas', 'onl'): 1, ('onl', 'states'): 1, ('location', 'onl'): 1, ('onl', 'type'): 1, ('developer', 'technology'): 1, ('python', 'technology'): 1, ('role', 'technology'): 1, ('dallas', 'technology'): 1, ('states', 'technology'): 1, ('location', 'technology'): 1, ('technology', 'type'): 1, ('developer', 'role'): 1, ('dallas', 'developer'): 1, ('developer', 'states'): 1, ('developer', 'location'): 1, ('developer', 'type'): 1, ('python', 'role'): 1, ('dallas', 'python'): 1, ('python', 'states'): 1, ('location', 'python'): 1, ('dallas', 'role'): 1, ('role', 'states'): 1, ('location', 'role'): 1, ('role', 'type'): 1, ('dallas', 'states'): 1, ('dallas', 'location'): 1, ('dallas', 'type'): 1, ('location', 'states'): 1, ('states', 'type'): 1, ('location', 'type'): 1, ('python', '→'): 1, ('html', '→'): 1, ('css', 'httpstcoaxefx'): 1, ('css', '→'): 1, ('httpstcoaxefx', '→'): 1, ('c', 'powershell'): 1, ('c', 'tier'): 1, ('c', 'skeletons'): 1, ('c', 'python'): 1, ('c', 'shell'): 1, ('c', 'github'): 1, ('powershell', 'tier'): 1, ('powershell', 'skeletons'): 1, ('powershell', 'python'): 1, ('powershell', 'shell'): 1, ('github', 'powershell'): 1, ('skeletons', 'tier'): 1, ('python', 'tier'): 1, ('shell', 'tier'): 1, ('github', 'tier'): 1, ('python', 'skeletons'): 1, ('shell', 'skeletons'): 1, ('github', 'skeletons'): 1, ('projects', 'science'): 1, ('data', 'projects'): 1, ('datascience', 'projects'): 1, ('data', 'datascience'): 2, ('development', 'linkedin'): 1, ('development', 'software'): 1, ('design', 'development'): 1, ('courses', 'development'): 1, ('development', 'machine'): 1, ('development', 'tools'): 1, ('development', 'github'): 1, ('development', 'langua'): 1, ('linkedin', 'software'): 1, ('design', 'linkedin'): 1, ('courses', 'linkedin'): 1, ('linkedin', 'machine'): 1, ('linkedin', 'tools'): 1, ('github', 'linkedin'): 1, ('langua', 'linkedin'): 1, ('design', 'software'): 1, ('courses', 'software'): 1, ('machine', 'software'): 1, ('software', 'tools'): 1, ('github', 'software'): 1, ('langua', 'software'): 1, ('courses', 'design'): 1, ('design', 'machine'): 1, ('design', 'tools'): 1, ('design', 'github'): 1, ('design', 'langua'): 1, ('courses', 'machine'): 1, ('courses', 'tools'): 1, ('courses', 'github'): 1, ('courses', 'langua'): 1, ('machine', 'tools'): 1, ('github', 'machine'): 1, ('langua', 'machine'): 1, ('github', 'tools'): 1, ('langua', 'tools'): 1, ('github', 'langua'): 1, ('python', 'thread'): 1, ('pythonでつくる', '入門講座'): 1, ('[', ']'): 1, (']', '円'): 1, ('[', '円'): 1, ('num', 'wave'): 1, ('python', 'wave'): 1, ('file', 'wave'): 1, ('program', 'wave'): 1, ('gt', 'wave'): 1, ('eighth', 'wave'): 1, ('num', 'python'): 1, ('file', 'num'): 1, ('num', 'program'): 1, ('gt', 'num'): 1, ('eighth', 'num'): 1, ('file', 'python'): 1, ('program', 'python'): 1, ('gt', 'python'): 1, ('eighth', 'python'): 1, ('file', 'program'): 1, ('file', 'gt'): 1, ('eighth', 'file'): 1, ('gt', 'program'): 1, ('eighth', 'program'): 1, ('eighth', 'gt'): 1, ('iot', 'project'): 1, ('data', 'iot'): 1, ('iot', 'r'): 1, ('iiot', 'project'): 1, ('data', 'iiot'): 1, ('iiot', 'r'): 1, ('datascience', 'project'): 1, ('datascience', 'r'): 1, ('project', 'r'): 1, ('bigdata', 'project'): 1, ('analytics', 'project'): 1, ('python', 'r'): 1, ('data', 'r'): 1, ('bigdata', 'data'): 1, ('analytics', 'data'): 1, ('bigdata', 'r'): 1, ('analytics', 'r'): 1, ('fizemos', 'que'): 1, ('pelo', 'que'): 1, ('monty', 'que'): 1, ('que', 'verdadeiro'): 1, ('caminho', 'que'): 1, ('python', 'que'): 1, ('que', 'é'): 1, ('o', 'que'): 1, ('que', 'você'): 1, ('fizemos', 'pelo'): 1, ('fizemos', 'monty'): 1, ('fizemos', 'verdadeiro'): 1, ('caminho', 'fizemos'): 1, ('fizemos', 'python'): 1, ('fizemos', 'é'): 1, ('fizemos', 'o'): 1, ('fizemos', 'você'): 1, ('monty', 'pelo'): 1, ('pelo', 'verdadeiro'): 1, ('caminho', 'pelo'): 1, ('pelo', 'python'): 1, ('pelo', 'é'): 1, ('o', 'pelo'): 1, ('pelo', 'você'): 1, ('monty', 'verdadeiro'): 1, ('caminho', 'monty'): 1, ('monty', 'é'): 1, ('monty', 'o'): 1, ('monty', 'você'): 1, ('caminho', 'verdadeiro'): 1, ('python', 'verdadeiro'): 1, ('verdadeiro', 'é'): 1, ('o', 'verdadeiro'): 1, ('verdadeiro', 'você'): 1, ('caminho', 'python'): 1, ('caminho', 'é'): 1, ('caminho', 'o'): 1, ('caminho', 'você'): 1, ('python', 'é'): 1, ('o', 'python'): 1, ('python', 'você'): 1, ('o', 'é'): 1, ('você', 'é'): 1, ('o', 'você'): 1, ('babies', 'ocidente'): 1, ('muito', 'tu'): 1, ('conhece', 'tu'): 1, ('conhece', 'muito'): 1, ('kingdom', 'water'): 1, ('i', 'water'): 1, ('snake', 'water'): 1, ('marlon', 'water'): 1, ('i', 'kingdom'): 1, ('kingdom', 'snake'): 1, ('kingdom', 'marlon'): 1, ('i', 'snake'): 1, ('i', 'marlon'): 1, ('marlon', 'snake'): 1, ('beginners', 'course'): 1, ('beginners', 'python'): 1, ('content', 'providers'): 1}\n"
          ]
        }
      ]
    },
    {
      "cell_type": "code",
      "metadata": {
        "id": "qPNjN58id4wm",
        "colab": {
          "base_uri": "https://localhost:8080/"
        },
        "outputId": "615a04ec-9c41-4649-82db-8a5e64f951a8"
      },
      "source": [
        "# 엣지 리스트를 그리기 위한 사전 작업\n",
        "\n",
        "min_num = 3   # 동시 출현 빈도 카운팅 현황을 보고 알맞게 조정할 변수\n",
        "\n",
        "file = open('edge_list.txt', 'w')\n",
        "for key, value in count.items():\n",
        "  if value >= min_num :\n",
        "    print(key, value)\n",
        "    string = str(key).strip(\"()\")\n",
        "    string = string.replace(\"'\", \"\")\n",
        "    string = string.replace(\",\",\"\")\n",
        "    newstr = string + \"\\n\"\n",
        "    file.write(newstr)\n",
        "file.close()\n",
        "\n",
        "# 직접 파일을 열어 비교해보자"
      ],
      "execution_count": 31,
      "outputs": [
        {
          "output_type": "stream",
          "name": "stdout",
          "text": [
            "('course', 'python') 3\n",
            "('analytics', 'datascience') 4\n",
            "('datascience', 'python') 4\n",
            "('data', 'python') 3\n",
            "('monty', 'python') 4\n",
            "('día', 'hoy') 3\n",
            "('día', 'mi') 3\n",
            "('día', 'por') 3\n",
            "('día', 'regalo') 3\n",
            "('hoy', 'mi') 3\n",
            "('hoy', 'por') 3\n",
            "('hoy', 'regalo') 3\n",
            "('mi', 'por') 3\n",
            "('mi', 'regalo') 3\n",
            "('por', 'regalo') 3\n",
            "('cero', 'desde') 3\n",
            "('cero', 'programar') 3\n",
            "('cero', 'es') 3\n",
            "('cero', 'mi') 3\n",
            "('cero', 'este') 3\n",
            "('cero', 'si') 3\n",
            "('cero', 'curso') 3\n",
            "('cero', 'python') 3\n",
            "('cero', 'quieres') 3\n",
            "('desde', 'programar') 3\n",
            "('desde', 'es') 3\n",
            "('desde', 'mi') 3\n",
            "('desde', 'este') 3\n",
            "('desde', 'si') 3\n",
            "('curso', 'desde') 3\n",
            "('desde', 'python') 3\n",
            "('desde', 'quieres') 3\n",
            "('es', 'programar') 3\n",
            "('mi', 'programar') 3\n",
            "('este', 'programar') 3\n",
            "('programar', 'si') 3\n",
            "('curso', 'programar') 3\n",
            "('programar', 'python') 3\n",
            "('programar', 'quieres') 3\n",
            "('es', 'mi') 3\n",
            "('es', 'este') 3\n",
            "('es', 'si') 3\n",
            "('curso', 'es') 3\n",
            "('es', 'python') 3\n",
            "('es', 'quieres') 3\n",
            "('este', 'mi') 3\n",
            "('mi', 'si') 3\n",
            "('curso', 'mi') 3\n",
            "('mi', 'python') 3\n",
            "('mi', 'quieres') 3\n",
            "('este', 'si') 3\n",
            "('curso', 'este') 3\n",
            "('este', 'python') 3\n",
            "('este', 'quieres') 3\n",
            "('curso', 'si') 3\n",
            "('python', 'si') 3\n",
            "('quieres', 'si') 3\n",
            "('curso', 'python') 3\n",
            "('curso', 'quieres') 3\n",
            "('python', 'quieres') 3\n",
            "('fundamentos', 'h') 3\n",
            "('fundamentos', 'y') 3\n",
            "('h', 'y') 3\n",
            "('life', 'monty') 3\n",
            "('life', 'pythons') 3\n",
            "('monty', 'pythons') 5\n",
            "('dans', 'principalement') 3\n",
            "('al', 'ml') 9\n",
            "('intelligenceartificielle', 'ml') 3\n",
            "('al', 'intelligenceartificielle') 3\n",
            "('datascience', 'datascientists') 8\n",
            "('chatgpt', 'i') 3\n",
            "('bigdata', 'datascience') 5\n",
            "('datasets', 'udemycoupon') 3\n",
            "('structures', 'udemycoupon') 3\n",
            "('onlinecourses', 'udemycoupon') 3\n",
            "('data', 'udemycoupon') 3\n",
            "('algorithms', 'udemycoupon') 3\n",
            "('datasets', 'structures') 3\n",
            "('datasets', 'onlinecourses') 3\n",
            "('data', 'datasets') 3\n",
            "('algorithms', 'datasets') 3\n",
            "('onlinecourses', 'structures') 3\n",
            "('data', 'structures') 3\n",
            "('algorithms', 'structures') 3\n",
            "('data', 'onlinecourses') 3\n",
            "('algorithms', 'onlinecourses') 3\n",
            "('algorithms', 'data') 3\n",
            "('python', 'shell') 4\n",
            "('dockerfile', 'python') 3\n",
            "('dockerfile', 'shell') 3\n",
            "('iiot', 'iot') 3\n",
            "('datascience', 'iot') 3\n",
            "('iot', 'python') 3\n",
            "('bigdata', 'iot') 3\n",
            "('analytics', 'iot') 3\n",
            "('datascience', 'iiot') 3\n",
            "('iiot', 'python') 3\n",
            "('bigdata', 'iiot') 3\n",
            "('analytics', 'iiot') 3\n",
            "('machine', 'python') 3\n",
            "('learning', 'python') 3\n",
            "('bigdata', 'python') 3\n",
            "('analytics', 'python') 3\n",
            "('learning', 'machine') 3\n",
            "('analytics', 'bigdata') 3\n"
          ]
        }
      ]
    },
    {
      "cell_type": "code",
      "metadata": {
        "id": "xSyW1mqvfZVi",
        "colab": {
          "base_uri": "https://localhost:8080/",
          "height": 676
        },
        "outputId": "c39fc4a3-1fae-43b4-97a9-176d773bad8e"
      },
      "source": [
        "# 텍스트 파일 읽어서 엣지 리스트 그래프 그리기\n",
        "G = nx.read_edgelist(\"edge_list.txt\", create_using = nx.Graph())\n",
        "\n",
        "# 그래프를 반복해서 그려보며 불필요한 노드 삭제\n",
        "# (예시) G.remove_nodes_from(['thanks', 'i', '@', 'pm', 'n', 'sooo', 'truckers', 'caught', 'thousands', 'henry'])\n",
        "G.remove_nodes_from(['microsofts','topacquisitions'])\n",
        "\n",
        "plt.figure(figsize=(15, 15))\n",
        "nx.draw_networkx(G, node_size=600)"
      ],
      "execution_count": 33,
      "outputs": [
        {
          "output_type": "display_data",
          "data": {
            "text/plain": [
              "<Figure size 1080x1080 with 1 Axes>"
            ],
            "image/png": "[encoded data removed]"
          },
          "metadata": {}
        }
      ]
    },
    {
      "cell_type": "code",
      "metadata": {
        "id": "t6w1jknu7nXV",
        "colab": {
          "base_uri": "https://localhost:8080/",
          "height": 762
        },
        "outputId": "c0afec71-ee3e-4b5b-f24e-feebd4608b60"
      },
      "source": [
        "# 그래프는 노드의 위치가 정해져있지 않다.\n",
        "pos = nx.spring_layout(G) # 노드 그래프를 그려주는 레이아웃을 spring_layout으로 한다\n",
        "# pos = nx.kamada_kawai_layout(G)\n",
        "# pos = nx.fruchterman_reingold_layout(G)\n",
        "\n",
        "# 매개 중심성 계산\n",
        "betCent = nx.betweenness_centrality(G, normalized=True, endpoints=True) # 매개중심성\n",
        "# 노드 색상 옵션\n",
        "node_color = [20000.0 * G.degree(v) for v in G] # 연결정도에 따라 노드 색상이 달라지게\n",
        "# 노드 사이즈 옵션\n",
        "node_size =  [v * 10000 for v in betCent.values()] # 매개중심성에 따라 노드 크기가 달라지게\n",
        "\n",
        "plt.figure(figsize=(15, 15)) # 그래프 사이즈\n",
        "plt.title(\"Keyword Graph\")\n",
        "nx.draw_networkx(G, pos=pos, with_labels=True,\n",
        "                 node_color=node_color,\n",
        "                 node_size=node_size\n",
        "                 )\n",
        "\n",
        "plt.axis('on') # 가장자리 박스 만들기"
      ],
      "execution_count": 34,
      "outputs": [
        {
          "output_type": "execute_result",
          "data": {
            "text/plain": [
              "(-0.515243745528166,\n",
              " 1.0383175855042988,\n",
              " -0.6330925334258667,\n",
              " 1.1551807384703312)"
            ]
          },
          "metadata": {},
          "execution_count": 34
        },
        {
          "output_type": "display_data",
          "data": {
            "text/plain": [
              "<Figure size 1080x1080 with 1 Axes>"
            ],
            "image/png": "[encoded data removed]"
          },
          "metadata": {}
        }
      ]
    },
    {
      "cell_type": "code",
      "metadata": {
        "id": "E0Yj-tDgofqj",
        "colab": {
          "base_uri": "https://localhost:8080/"
        },
        "outputId": "ce2ec4f6-f9a4-454e-d94d-b69dabb8b41a"
      },
      "source": [
        "# 매개 중심성 높은 순서대로 보기\n",
        "\n",
        "sorted(betCent, key=betCent.get, reverse=True)[:5] # 5개까지"
      ],
      "execution_count": 35,
      "outputs": [
        {
          "output_type": "execute_result",
          "data": {
            "text/plain": [
              "['python', 'data', 'mi', 'monty', 'datascience']"
            ]
          },
          "metadata": {},
          "execution_count": 35
        }
      ]
    },
    {
      "cell_type": "code",
      "metadata": {
        "id": "3zPxSpNsC9-t",
        "colab": {
          "base_uri": "https://localhost:8080/"
        },
        "outputId": "602b9c31-01dd-4b30-eb72-7f36edb7136f"
      },
      "source": [
        "# 노드별로 중심성 보기\n",
        "\n",
        "# 매개 중심성 (betweenness centrality)\n",
        "print(nx.betweenness_centrality(G).get('python'))    # 그래프에 보이는 노드 바꿔보며 입력해보기\n",
        "\n",
        "# 연결 중심성 (degree centrality)\n",
        "print(nx.degree_centrality(G).get('data'))         # 그래프에 보이는 노드 바꿔보며 입력해보기\n",
        "\n",
        "# 근접 중심성 (closeness_centrality)\n",
        "print(nx.closeness_centrality(G).get('mi'))      # 그래프에 보이는 노드 바꿔보며 입력해보기\n"
      ],
      "execution_count": 37,
      "outputs": [
        {
          "output_type": "stream",
          "name": "stdout",
          "text": [
            "0.45957918050941304\n",
            "0.13953488372093023\n",
            "0.415173465497522\n"
          ]
        }
      ]
    },
    {
      "cell_type": "markdown",
      "metadata": {
        "id": "SWs2NzkPcyIZ"
      },
      "source": [
        "# 나만의 키워드를 선정하고, 분석 결과 정리하기"
      ]
    },
    {
      "cell_type": "markdown",
      "metadata": {
        "id": "MDaUX1syc8WS"
      },
      "source": [
        "- 살펴보고 싶은 키워드를 선정 (영어 단어)\n",
        "- 자신의 프로젝트에 맞게 변수를 커스터마이징\n",
        "  - keyword\n",
        "  - until\n",
        "  - items\n",
        "- 단어의 동시 출현 빈도 현황에 따라 min_num 조절\n",
        "- 그래프를 반복해서 그려보며 불필요한 노드를 삭제"
      ]
    }
  ]
}
